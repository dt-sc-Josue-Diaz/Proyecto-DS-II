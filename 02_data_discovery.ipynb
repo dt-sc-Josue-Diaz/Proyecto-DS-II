{
 "cells": [
  {
   "cell_type": "markdown",
   "id": "33f43485-11c7-4935-b362-b58bed77019e",
   "metadata": {
    "id": "33f43485-11c7-4935-b362-b58bed77019e"
   },
   "source": [
    "### Carga de datos\n",
    "Una vez que tenemos los datos en formato csv, para poder manejarlos los cargamos anteriormene en github. Estos los importamos ahora mediante."
   ]
  },
  {
   "cell_type": "code",
   "execution_count": 45,
   "id": "eb6ec1d4-91cb-415e-9b27-070d55f2e6f4",
   "metadata": {
    "executionInfo": {
     "elapsed": 1002,
     "status": "ok",
     "timestamp": 1727084025830,
     "user": {
      "displayName": "Luis Josue Díaz Alvarez",
      "userId": "04889251803537967222"
     },
     "user_tz": 360
    },
    "id": "eb6ec1d4-91cb-415e-9b27-070d55f2e6f4"
   },
   "outputs": [],
   "source": [
    "import pandas as pd\n",
    "import numpy as np\n",
    "\n",
    "url_data = 'https://raw.githubusercontent.com/dt-sc-Josue-Diaz/Proyecto-DS-II/refs/heads/main/02_data_discovery/data_para_discovery.csv'\n",
    "df = pd.read_csv(url_data)\n"
   ]
  },
  {
   "cell_type": "markdown",
   "id": "hMOuXm4UMJLX",
   "metadata": {
    "id": "hMOuXm4UMJLX"
   },
   "source": [
    "Para darnos la idea de que seguimos como en el primer paso, tenemos una muestra para observar que las configuraciones previas fueron las correctas.\n"
   ]
  },
  {
   "cell_type": "code",
   "execution_count": 46,
   "id": "bf15018b-0227-49b0-ab7b-ed1f3e5a3fb9",
   "metadata": {
    "colab": {
     "base_uri": "https://localhost:8080/",
     "height": 244
    },
    "executionInfo": {
     "elapsed": 8,
     "status": "ok",
     "timestamp": 1727084025831,
     "user": {
      "displayName": "Luis Josue Díaz Alvarez",
      "userId": "04889251803537967222"
     },
     "user_tz": 360
    },
    "id": "bf15018b-0227-49b0-ab7b-ed1f3e5a3fb9",
    "outputId": "16e1a40c-492a-4dcc-ffee-87991f94b401"
   },
   "outputs": [
    {
     "data": {
      "text/html": [
       "<div>\n",
       "<style scoped>\n",
       "    .dataframe tbody tr th:only-of-type {\n",
       "        vertical-align: middle;\n",
       "    }\n",
       "\n",
       "    .dataframe tbody tr th {\n",
       "        vertical-align: top;\n",
       "    }\n",
       "\n",
       "    .dataframe thead th {\n",
       "        text-align: right;\n",
       "    }\n",
       "</style>\n",
       "<table border=\"1\" class=\"dataframe\">\n",
       "  <thead>\n",
       "    <tr style=\"text-align: right;\">\n",
       "      <th></th>\n",
       "      <th>SeriousDlqin2yrs</th>\n",
       "      <th>RevolvingUtilizationOfUnsecuredLines</th>\n",
       "      <th>age</th>\n",
       "      <th>NumberOfTime30-59DaysPastDueNotWorse</th>\n",
       "      <th>DebtRatio</th>\n",
       "      <th>MonthlyIncome</th>\n",
       "      <th>NumberOfOpenCreditLinesAndLoans</th>\n",
       "      <th>NumberOfTimes90DaysLate</th>\n",
       "      <th>NumberRealEstateLoansOrLines</th>\n",
       "      <th>NumberOfTime60-89DaysPastDueNotWorse</th>\n",
       "      <th>NumberOfDependents</th>\n",
       "    </tr>\n",
       "  </thead>\n",
       "  <tbody>\n",
       "    <tr>\n",
       "      <th>134684</th>\n",
       "      <td>0</td>\n",
       "      <td>0.085314</td>\n",
       "      <td>47</td>\n",
       "      <td>0</td>\n",
       "      <td>0.509957</td>\n",
       "      <td>15416.0</td>\n",
       "      <td>18</td>\n",
       "      <td>0</td>\n",
       "      <td>2</td>\n",
       "      <td>0</td>\n",
       "      <td>3.0</td>\n",
       "    </tr>\n",
       "    <tr>\n",
       "      <th>133329</th>\n",
       "      <td>0</td>\n",
       "      <td>0.793568</td>\n",
       "      <td>43</td>\n",
       "      <td>2</td>\n",
       "      <td>6784.000000</td>\n",
       "      <td>0.0</td>\n",
       "      <td>14</td>\n",
       "      <td>0</td>\n",
       "      <td>3</td>\n",
       "      <td>0</td>\n",
       "      <td>1.0</td>\n",
       "    </tr>\n",
       "    <tr>\n",
       "      <th>123789</th>\n",
       "      <td>1</td>\n",
       "      <td>1.000000</td>\n",
       "      <td>30</td>\n",
       "      <td>0</td>\n",
       "      <td>27.000000</td>\n",
       "      <td>NaN</td>\n",
       "      <td>1</td>\n",
       "      <td>0</td>\n",
       "      <td>0</td>\n",
       "      <td>0</td>\n",
       "      <td>0.0</td>\n",
       "    </tr>\n",
       "    <tr>\n",
       "      <th>43184</th>\n",
       "      <td>0</td>\n",
       "      <td>0.031706</td>\n",
       "      <td>54</td>\n",
       "      <td>0</td>\n",
       "      <td>0.257097</td>\n",
       "      <td>6833.0</td>\n",
       "      <td>5</td>\n",
       "      <td>0</td>\n",
       "      <td>1</td>\n",
       "      <td>0</td>\n",
       "      <td>0.0</td>\n",
       "    </tr>\n",
       "    <tr>\n",
       "      <th>25409</th>\n",
       "      <td>0</td>\n",
       "      <td>0.043472</td>\n",
       "      <td>53</td>\n",
       "      <td>0</td>\n",
       "      <td>0.459142</td>\n",
       "      <td>5200.0</td>\n",
       "      <td>25</td>\n",
       "      <td>0</td>\n",
       "      <td>3</td>\n",
       "      <td>0</td>\n",
       "      <td>0.0</td>\n",
       "    </tr>\n",
       "  </tbody>\n",
       "</table>\n",
       "</div>"
      ],
      "text/plain": [
       "        SeriousDlqin2yrs  RevolvingUtilizationOfUnsecuredLines  age  \\\n",
       "134684                 0                              0.085314   47   \n",
       "133329                 0                              0.793568   43   \n",
       "123789                 1                              1.000000   30   \n",
       "43184                  0                              0.031706   54   \n",
       "25409                  0                              0.043472   53   \n",
       "\n",
       "        NumberOfTime30-59DaysPastDueNotWorse    DebtRatio  MonthlyIncome  \\\n",
       "134684                                     0     0.509957        15416.0   \n",
       "133329                                     2  6784.000000            0.0   \n",
       "123789                                     0    27.000000            NaN   \n",
       "43184                                      0     0.257097         6833.0   \n",
       "25409                                      0     0.459142         5200.0   \n",
       "\n",
       "        NumberOfOpenCreditLinesAndLoans  NumberOfTimes90DaysLate  \\\n",
       "134684                               18                        0   \n",
       "133329                               14                        0   \n",
       "123789                                1                        0   \n",
       "43184                                 5                        0   \n",
       "25409                                25                        0   \n",
       "\n",
       "        NumberRealEstateLoansOrLines  NumberOfTime60-89DaysPastDueNotWorse  \\\n",
       "134684                             2                                     0   \n",
       "133329                             3                                     0   \n",
       "123789                             0                                     0   \n",
       "43184                              1                                     0   \n",
       "25409                              3                                     0   \n",
       "\n",
       "        NumberOfDependents  \n",
       "134684                 3.0  \n",
       "133329                 1.0  \n",
       "123789                 0.0  \n",
       "43184                  0.0  \n",
       "25409                  0.0  "
      ]
     },
     "execution_count": 46,
     "metadata": {},
     "output_type": "execute_result"
    }
   ],
   "source": [
    "df.sample(5)"
   ]
  },
  {
   "cell_type": "markdown",
   "id": "062edb60-b7db-4539-b7df-ea3af985eea0",
   "metadata": {
    "id": "062edb60-b7db-4539-b7df-ea3af985eea0"
   },
   "source": [
    "# Valores nulos\n",
    "Vamos a proceder con los valores nulos, necesitamos conocer el timpo de variables con datos nulos, a manera de sospecha, la falta de informacion siempre es causa de riesgo a la institución y a los procedimientos de concesion de créditos.\n",
    "\n"
   ]
  },
  {
   "cell_type": "code",
   "execution_count": 47,
   "id": "99fb0a92-93da-4066-b9a2-45ff673fc489",
   "metadata": {
    "colab": {
     "base_uri": "https://localhost:8080/"
    },
    "executionInfo": {
     "elapsed": 7,
     "status": "ok",
     "timestamp": 1727084025831,
     "user": {
      "displayName": "Luis Josue Díaz Alvarez",
      "userId": "04889251803537967222"
     },
     "user_tz": 360
    },
    "id": "99fb0a92-93da-4066-b9a2-45ff673fc489",
    "outputId": "3cece6da-988b-4c26-9964-f41424c920b9"
   },
   "outputs": [
    {
     "name": "stdout",
     "output_type": "stream",
     "text": [
      "<class 'pandas.core.frame.DataFrame'>\n",
      "RangeIndex: 150000 entries, 0 to 149999\n",
      "Data columns (total 11 columns):\n",
      " #   Column                                Non-Null Count   Dtype  \n",
      "---  ------                                --------------   -----  \n",
      " 0   SeriousDlqin2yrs                      150000 non-null  int64  \n",
      " 1   RevolvingUtilizationOfUnsecuredLines  150000 non-null  float64\n",
      " 2   age                                   150000 non-null  int64  \n",
      " 3   NumberOfTime30-59DaysPastDueNotWorse  150000 non-null  int64  \n",
      " 4   DebtRatio                             150000 non-null  float64\n",
      " 5   MonthlyIncome                         120269 non-null  float64\n",
      " 6   NumberOfOpenCreditLinesAndLoans       150000 non-null  int64  \n",
      " 7   NumberOfTimes90DaysLate               150000 non-null  int64  \n",
      " 8   NumberRealEstateLoansOrLines          150000 non-null  int64  \n",
      " 9   NumberOfTime60-89DaysPastDueNotWorse  150000 non-null  int64  \n",
      " 10  NumberOfDependents                    146076 non-null  float64\n",
      "dtypes: float64(4), int64(7)\n",
      "memory usage: 12.6 MB\n"
     ]
    }
   ],
   "source": [
    "df.info()"
   ]
  },
  {
   "cell_type": "markdown",
   "id": "PJsTVWmpMzM7",
   "metadata": {
    "id": "PJsTVWmpMzM7"
   },
   "source": [
    "De manera superficial notamos que si existen nulos, vemos ahora que la cantidad de datos es la que tenemos en la documentacion de la pagina de kaggle."
   ]
  },
  {
   "cell_type": "code",
   "execution_count": 48,
   "id": "d5593847-7589-4261-b815-bd4e09070dda",
   "metadata": {
    "colab": {
     "base_uri": "https://localhost:8080/"
    },
    "executionInfo": {
     "elapsed": 5,
     "status": "ok",
     "timestamp": 1727084025831,
     "user": {
      "displayName": "Luis Josue Díaz Alvarez",
      "userId": "04889251803537967222"
     },
     "user_tz": 360
    },
    "id": "d5593847-7589-4261-b815-bd4e09070dda",
    "outputId": "9ec173ed-d4f8-48ac-d99d-f30b95947a12"
   },
   "outputs": [
    {
     "data": {
      "text/plain": [
       "(150000, 11)"
      ]
     },
     "execution_count": 48,
     "metadata": {},
     "output_type": "execute_result"
    }
   ],
   "source": [
    "df.shape"
   ]
  },
  {
   "cell_type": "markdown",
   "id": "-c_UH8FRM70c",
   "metadata": {
    "id": "-c_UH8FRM70c"
   },
   "source": [
    "Vamos a testear la cantidad porncentual de datos nulos."
   ]
  },
  {
   "cell_type": "code",
   "execution_count": 49,
   "id": "c7c26b87-f0d7-4dbb-afeb-dfb497bd229b",
   "metadata": {
    "colab": {
     "base_uri": "https://localhost:8080/",
     "height": 429
    },
    "executionInfo": {
     "elapsed": 4,
     "status": "ok",
     "timestamp": 1727084025831,
     "user": {
      "displayName": "Luis Josue Díaz Alvarez",
      "userId": "04889251803537967222"
     },
     "user_tz": 360
    },
    "id": "c7c26b87-f0d7-4dbb-afeb-dfb497bd229b",
    "outputId": "f42f57c2-6a04-4902-f1bb-efaf034100d5"
   },
   "outputs": [
    {
     "data": {
      "text/plain": [
       "SeriousDlqin2yrs                         0.000000\n",
       "RevolvingUtilizationOfUnsecuredLines     0.000000\n",
       "age                                      0.000000\n",
       "NumberOfTime30-59DaysPastDueNotWorse     0.000000\n",
       "DebtRatio                                0.000000\n",
       "MonthlyIncome                           19.820667\n",
       "NumberOfOpenCreditLinesAndLoans          0.000000\n",
       "NumberOfTimes90DaysLate                  0.000000\n",
       "NumberRealEstateLoansOrLines             0.000000\n",
       "NumberOfTime60-89DaysPastDueNotWorse     0.000000\n",
       "NumberOfDependents                       2.616000\n",
       "dtype: float64"
      ]
     },
     "execution_count": 49,
     "metadata": {},
     "output_type": "execute_result"
    }
   ],
   "source": [
    "(df.isnull().sum()/df.shape[0])*100"
   ]
  },
  {
   "cell_type": "markdown",
   "id": "P7IFnHLOM_oV",
   "metadata": {
    "id": "P7IFnHLOM_oV"
   },
   "source": [
    "Notemos que tenemos una cantidad de nulos cercanas al 20%, pero como pista, la falta de información es causal de riesgo a la contraperte, por tal buscamos una manera de evitar eliminar tantos registros."
   ]
  },
  {
   "cell_type": "code",
   "execution_count": 50,
   "id": "XRuvhbfPl4EC",
   "metadata": {
    "colab": {
     "base_uri": "https://localhost:8080/",
     "height": 338
    },
    "executionInfo": {
     "elapsed": 4,
     "status": "ok",
     "timestamp": 1727084025831,
     "user": {
      "displayName": "Luis Josue Díaz Alvarez",
      "userId": "04889251803537967222"
     },
     "user_tz": 360
    },
    "id": "XRuvhbfPl4EC",
    "outputId": "5a78a63b-b401-4cee-d63e-69683ac7ed4c"
   },
   "outputs": [
    {
     "data": {
      "text/html": [
       "<div>\n",
       "<style scoped>\n",
       "    .dataframe tbody tr th:only-of-type {\n",
       "        vertical-align: middle;\n",
       "    }\n",
       "\n",
       "    .dataframe tbody tr th {\n",
       "        vertical-align: top;\n",
       "    }\n",
       "\n",
       "    .dataframe thead th {\n",
       "        text-align: right;\n",
       "    }\n",
       "</style>\n",
       "<table border=\"1\" class=\"dataframe\">\n",
       "  <thead>\n",
       "    <tr style=\"text-align: right;\">\n",
       "      <th></th>\n",
       "      <th>SeriousDlqin2yrs</th>\n",
       "      <th>RevolvingUtilizationOfUnsecuredLines</th>\n",
       "      <th>age</th>\n",
       "      <th>NumberOfTime30-59DaysPastDueNotWorse</th>\n",
       "      <th>DebtRatio</th>\n",
       "      <th>MonthlyIncome</th>\n",
       "      <th>NumberOfOpenCreditLinesAndLoans</th>\n",
       "      <th>NumberOfTimes90DaysLate</th>\n",
       "      <th>NumberRealEstateLoansOrLines</th>\n",
       "      <th>NumberOfTime60-89DaysPastDueNotWorse</th>\n",
       "      <th>NumberOfDependents</th>\n",
       "    </tr>\n",
       "  </thead>\n",
       "  <tbody>\n",
       "    <tr>\n",
       "      <th>count</th>\n",
       "      <td>29731.000000</td>\n",
       "      <td>29731.000000</td>\n",
       "      <td>29731.000000</td>\n",
       "      <td>29731.000000</td>\n",
       "      <td>29731.000000</td>\n",
       "      <td>0.0</td>\n",
       "      <td>29731.000000</td>\n",
       "      <td>29731.000000</td>\n",
       "      <td>29731.000000</td>\n",
       "      <td>29731.000000</td>\n",
       "      <td>25807.000000</td>\n",
       "    </tr>\n",
       "    <tr>\n",
       "      <th>mean</th>\n",
       "      <td>0.056137</td>\n",
       "      <td>6.649421</td>\n",
       "      <td>56.362349</td>\n",
       "      <td>0.579866</td>\n",
       "      <td>1673.396556</td>\n",
       "      <td>NaN</td>\n",
       "      <td>7.216071</td>\n",
       "      <td>0.484612</td>\n",
       "      <td>0.871481</td>\n",
       "      <td>0.452995</td>\n",
       "      <td>0.316310</td>\n",
       "    </tr>\n",
       "    <tr>\n",
       "      <th>std</th>\n",
       "      <td>0.230189</td>\n",
       "      <td>217.814854</td>\n",
       "      <td>15.438786</td>\n",
       "      <td>6.255361</td>\n",
       "      <td>4248.372895</td>\n",
       "      <td>NaN</td>\n",
       "      <td>4.842720</td>\n",
       "      <td>6.250408</td>\n",
       "      <td>1.034291</td>\n",
       "      <td>6.242076</td>\n",
       "      <td>0.809944</td>\n",
       "    </tr>\n",
       "    <tr>\n",
       "      <th>min</th>\n",
       "      <td>0.000000</td>\n",
       "      <td>0.000000</td>\n",
       "      <td>21.000000</td>\n",
       "      <td>0.000000</td>\n",
       "      <td>0.000000</td>\n",
       "      <td>NaN</td>\n",
       "      <td>0.000000</td>\n",
       "      <td>0.000000</td>\n",
       "      <td>0.000000</td>\n",
       "      <td>0.000000</td>\n",
       "      <td>0.000000</td>\n",
       "    </tr>\n",
       "    <tr>\n",
       "      <th>25%</th>\n",
       "      <td>0.000000</td>\n",
       "      <td>0.016027</td>\n",
       "      <td>46.000000</td>\n",
       "      <td>0.000000</td>\n",
       "      <td>123.000000</td>\n",
       "      <td>NaN</td>\n",
       "      <td>4.000000</td>\n",
       "      <td>0.000000</td>\n",
       "      <td>0.000000</td>\n",
       "      <td>0.000000</td>\n",
       "      <td>0.000000</td>\n",
       "    </tr>\n",
       "    <tr>\n",
       "      <th>50%</th>\n",
       "      <td>0.000000</td>\n",
       "      <td>0.081697</td>\n",
       "      <td>57.000000</td>\n",
       "      <td>0.000000</td>\n",
       "      <td>1159.000000</td>\n",
       "      <td>NaN</td>\n",
       "      <td>6.000000</td>\n",
       "      <td>0.000000</td>\n",
       "      <td>1.000000</td>\n",
       "      <td>0.000000</td>\n",
       "      <td>0.000000</td>\n",
       "    </tr>\n",
       "    <tr>\n",
       "      <th>75%</th>\n",
       "      <td>0.000000</td>\n",
       "      <td>0.440549</td>\n",
       "      <td>67.000000</td>\n",
       "      <td>0.000000</td>\n",
       "      <td>2382.000000</td>\n",
       "      <td>NaN</td>\n",
       "      <td>10.000000</td>\n",
       "      <td>0.000000</td>\n",
       "      <td>1.000000</td>\n",
       "      <td>0.000000</td>\n",
       "      <td>0.000000</td>\n",
       "    </tr>\n",
       "    <tr>\n",
       "      <th>max</th>\n",
       "      <td>1.000000</td>\n",
       "      <td>22198.000000</td>\n",
       "      <td>109.000000</td>\n",
       "      <td>98.000000</td>\n",
       "      <td>329664.000000</td>\n",
       "      <td>NaN</td>\n",
       "      <td>45.000000</td>\n",
       "      <td>98.000000</td>\n",
       "      <td>23.000000</td>\n",
       "      <td>98.000000</td>\n",
       "      <td>9.000000</td>\n",
       "    </tr>\n",
       "  </tbody>\n",
       "</table>\n",
       "</div>"
      ],
      "text/plain": [
       "       SeriousDlqin2yrs  RevolvingUtilizationOfUnsecuredLines           age  \\\n",
       "count      29731.000000                          29731.000000  29731.000000   \n",
       "mean           0.056137                              6.649421     56.362349   \n",
       "std            0.230189                            217.814854     15.438786   \n",
       "min            0.000000                              0.000000     21.000000   \n",
       "25%            0.000000                              0.016027     46.000000   \n",
       "50%            0.000000                              0.081697     57.000000   \n",
       "75%            0.000000                              0.440549     67.000000   \n",
       "max            1.000000                          22198.000000    109.000000   \n",
       "\n",
       "       NumberOfTime30-59DaysPastDueNotWorse      DebtRatio  MonthlyIncome  \\\n",
       "count                          29731.000000   29731.000000            0.0   \n",
       "mean                               0.579866    1673.396556            NaN   \n",
       "std                                6.255361    4248.372895            NaN   \n",
       "min                                0.000000       0.000000            NaN   \n",
       "25%                                0.000000     123.000000            NaN   \n",
       "50%                                0.000000    1159.000000            NaN   \n",
       "75%                                0.000000    2382.000000            NaN   \n",
       "max                               98.000000  329664.000000            NaN   \n",
       "\n",
       "       NumberOfOpenCreditLinesAndLoans  NumberOfTimes90DaysLate  \\\n",
       "count                     29731.000000             29731.000000   \n",
       "mean                          7.216071                 0.484612   \n",
       "std                           4.842720                 6.250408   \n",
       "min                           0.000000                 0.000000   \n",
       "25%                           4.000000                 0.000000   \n",
       "50%                           6.000000                 0.000000   \n",
       "75%                          10.000000                 0.000000   \n",
       "max                          45.000000                98.000000   \n",
       "\n",
       "       NumberRealEstateLoansOrLines  NumberOfTime60-89DaysPastDueNotWorse  \\\n",
       "count                  29731.000000                          29731.000000   \n",
       "mean                       0.871481                              0.452995   \n",
       "std                        1.034291                              6.242076   \n",
       "min                        0.000000                              0.000000   \n",
       "25%                        0.000000                              0.000000   \n",
       "50%                        1.000000                              0.000000   \n",
       "75%                        1.000000                              0.000000   \n",
       "max                       23.000000                             98.000000   \n",
       "\n",
       "       NumberOfDependents  \n",
       "count        25807.000000  \n",
       "mean             0.316310  \n",
       "std              0.809944  \n",
       "min              0.000000  \n",
       "25%              0.000000  \n",
       "50%              0.000000  \n",
       "75%              0.000000  \n",
       "max              9.000000  "
      ]
     },
     "execution_count": 50,
     "metadata": {},
     "output_type": "execute_result"
    }
   ],
   "source": [
    "df[df['MonthlyIncome'].isna()].describe()"
   ]
  },
  {
   "cell_type": "markdown",
   "id": "XjRUVbAywIOh",
   "metadata": {
    "id": "XjRUVbAywIOh"
   },
   "source": [
    "En contexto con los metadatos, observamos que DebRatio, es la proporción;\n",
    "\n",
    "$$DebRatio=\\frac{Gastos}{Ingresos}$$\n",
    "\n",
    "se mide qué proporción del ingreso mensual de una persona se destina a cubrir deudas y gastos esenciales es decir, la capacidad que tiene una persona para solverntarse además, se puede entender como un indicador de la capacidad de endeudamiento de un individuo. Notemos que DebRatio mayor que uno nos está implicando que la persona no gana lo suficiente respecto a sus gastos o no está ganando dinero. De esta manera, una persona que por mas de 3 meses tenga un debratio mayor a uno tendría sentido pensar que no está generando ingresos."
   ]
  },
  {
   "cell_type": "code",
   "execution_count": 51,
   "id": "359d3e31-ca05-4172-9101-6d79fcac9dd5",
   "metadata": {
    "colab": {
     "base_uri": "https://localhost:8080/",
     "height": 458
    },
    "executionInfo": {
     "elapsed": 413,
     "status": "ok",
     "timestamp": 1727084026240,
     "user": {
      "displayName": "Luis Josue Díaz Alvarez",
      "userId": "04889251803537967222"
     },
     "user_tz": 360
    },
    "id": "359d3e31-ca05-4172-9101-6d79fcac9dd5",
    "outputId": "89c0dbe2-c72b-4f8b-8a7b-aedfe07e4743"
   },
   "outputs": [
    {
     "data": {
      "text/plain": [
       "6        NaN\n",
       "8        NaN\n",
       "16       NaN\n",
       "32       NaN\n",
       "41       NaN\n",
       "          ..\n",
       "149976   NaN\n",
       "149977   NaN\n",
       "149984   NaN\n",
       "149992   NaN\n",
       "149997   NaN\n",
       "Name: MonthlyIncome, Length: 29731, dtype: float64"
      ]
     },
     "execution_count": 51,
     "metadata": {},
     "output_type": "execute_result"
    }
   ],
   "source": [
    "df.loc[df.MonthlyIncome.isna() == True,'MonthlyIncome']"
   ]
  },
  {
   "cell_type": "markdown",
   "id": "TBSUjbzU0ulX",
   "metadata": {
    "id": "TBSUjbzU0ulX"
   },
   "source": [
    "Hicismos una investigacion no desiva para conseguir el promedio de ingresos mensuales en el año de la información, para conseguir los datos siguientes\n",
    "\n",
    "| **Rango de edad** | **Ingreso mensual promedio (USD)** |\n",
    "|-------------------|------------------------------------|\n",
    "| 16-24 años        | $1,800 - $2,200                    |\n",
    "| 25-34 años        | $3,200 - $4,000                    |\n",
    "| 35-44 años        | $4,500 - $5,500                    |\n",
    "| 45-54 años        | $4,800 - $6,000                    |\n",
    "| 55-64 años        | $4,200 - $5,000                    |\n",
    "| 65 años o más     | $2,000 - $3,000                    |\n",
    "\n",
    "De esta manera tendremos una idea de cuanto posiblemente ganaba una persona por edad en el 2011. Con eso definimos la funcion para poder asignar a cada registro un aproximado de lo que podieran ganar en ese entonces por grupo de edad."
   ]
  },
  {
   "cell_type": "code",
   "execution_count": 52,
   "id": "6c006e9d-a023-43b6-a47a-63f44976f005",
   "metadata": {
    "executionInfo": {
     "elapsed": 6,
     "status": "ok",
     "timestamp": 1727084026240,
     "user": {
      "displayName": "Luis Josue Díaz Alvarez",
      "userId": "04889251803537967222"
     },
     "user_tz": 360
    },
    "id": "6c006e9d-a023-43b6-a47a-63f44976f005"
   },
   "outputs": [],
   "source": [
    "def ingresos_promedio(age):\n",
    "    # Respecto a la edad de la persona se le asigna un ingreso aproximado de ese año.\n",
    "    if age < 25:\n",
    "        return 2000\n",
    "    elif age < 35:\n",
    "        return 4500\n",
    "    elif age < 45:\n",
    "        return 4800\n",
    "    else:\n",
    "        return 4200"
   ]
  },
  {
   "cell_type": "markdown",
   "id": "GcOugHeFP3W3",
   "metadata": {
    "id": "GcOugHeFP3W3"
   },
   "source": [
    "Pues bien, ahora notemos que; si el deberatio es menor que uno y no tiene ingresos mensuales entonces en verdad es una perdida de información por lo que asignarle el ingreso promedio por edad no sesgaria el estudio a diferencia de usar la media del data set. Pues como puede verse en la tabla anterior la edad es un factor en la cantidad de ingresos.\n",
    "\n",
    "Por otro lado si el DebRatio es mayor que uno tambien tiene sentido pensar que la persona no tiene ingresos para al menos cubrir sus gastos y por tanto sus deudas. De esta manera asignamos a cero este ingreso.\n"
   ]
  },
  {
   "cell_type": "code",
   "execution_count": 53,
   "id": "lsugB2CeP2hf",
   "metadata": {
    "executionInfo": {
     "elapsed": 6,
     "status": "ok",
     "timestamp": 1727084026240,
     "user": {
      "displayName": "Luis Josue Díaz Alvarez",
      "userId": "04889251803537967222"
     },
     "user_tz": 360
    },
    "id": "lsugB2CeP2hf"
   },
   "outputs": [],
   "source": [
    "df.loc[(df['DebtRatio'] <1) & (df['MonthlyIncome'].isna()), 'MonthlyIncome'] = df.loc[(df['DebtRatio'] < 1) & (df['MonthlyIncome'].isna()), 'age'].apply(ingresos_promedio).astype(float)\n",
    "df.loc[(df['DebtRatio'] >= 1) & (df['MonthlyIncome'].isna()), 'MonthlyIncome'] = 0"
   ]
  },
  {
   "cell_type": "code",
   "execution_count": 54,
   "id": "idRwzKcoqvxD",
   "metadata": {
    "colab": {
     "base_uri": "https://localhost:8080/",
     "height": 338
    },
    "executionInfo": {
     "elapsed": 6,
     "status": "ok",
     "timestamp": 1727084026240,
     "user": {
      "displayName": "Luis Josue Díaz Alvarez",
      "userId": "04889251803537967222"
     },
     "user_tz": 360
    },
    "id": "idRwzKcoqvxD",
    "outputId": "e86c9245-bad7-4678-99fd-40be39b6397f"
   },
   "outputs": [
    {
     "data": {
      "text/html": [
       "<div>\n",
       "<style scoped>\n",
       "    .dataframe tbody tr th:only-of-type {\n",
       "        vertical-align: middle;\n",
       "    }\n",
       "\n",
       "    .dataframe tbody tr th {\n",
       "        vertical-align: top;\n",
       "    }\n",
       "\n",
       "    .dataframe thead th {\n",
       "        text-align: right;\n",
       "    }\n",
       "</style>\n",
       "<table border=\"1\" class=\"dataframe\">\n",
       "  <thead>\n",
       "    <tr style=\"text-align: right;\">\n",
       "      <th></th>\n",
       "      <th>SeriousDlqin2yrs</th>\n",
       "      <th>RevolvingUtilizationOfUnsecuredLines</th>\n",
       "      <th>age</th>\n",
       "      <th>NumberOfTime30-59DaysPastDueNotWorse</th>\n",
       "      <th>DebtRatio</th>\n",
       "      <th>MonthlyIncome</th>\n",
       "      <th>NumberOfOpenCreditLinesAndLoans</th>\n",
       "      <th>NumberOfTimes90DaysLate</th>\n",
       "      <th>NumberRealEstateLoansOrLines</th>\n",
       "      <th>NumberOfTime60-89DaysPastDueNotWorse</th>\n",
       "      <th>NumberOfDependents</th>\n",
       "    </tr>\n",
       "  </thead>\n",
       "  <tbody>\n",
       "    <tr>\n",
       "      <th>count</th>\n",
       "      <td>4113.000000</td>\n",
       "      <td>4113.000000</td>\n",
       "      <td>4113.000000</td>\n",
       "      <td>4113.000000</td>\n",
       "      <td>4113.0</td>\n",
       "      <td>4113.000000</td>\n",
       "      <td>4113.000000</td>\n",
       "      <td>4113.000000</td>\n",
       "      <td>4113.0</td>\n",
       "      <td>4113.000000</td>\n",
       "      <td>3708.000000</td>\n",
       "    </tr>\n",
       "    <tr>\n",
       "      <th>mean</th>\n",
       "      <td>0.082665</td>\n",
       "      <td>0.450194</td>\n",
       "      <td>52.124970</td>\n",
       "      <td>5.032580</td>\n",
       "      <td>0.0</td>\n",
       "      <td>4068.413080</td>\n",
       "      <td>2.223195</td>\n",
       "      <td>5.097982</td>\n",
       "      <td>0.0</td>\n",
       "      <td>5.003404</td>\n",
       "      <td>0.330367</td>\n",
       "    </tr>\n",
       "    <tr>\n",
       "      <th>std</th>\n",
       "      <td>0.275408</td>\n",
       "      <td>0.497185</td>\n",
       "      <td>21.322905</td>\n",
       "      <td>21.507982</td>\n",
       "      <td>0.0</td>\n",
       "      <td>10195.787426</td>\n",
       "      <td>2.414849</td>\n",
       "      <td>21.498040</td>\n",
       "      <td>0.0</td>\n",
       "      <td>21.513965</td>\n",
       "      <td>0.806686</td>\n",
       "    </tr>\n",
       "    <tr>\n",
       "      <th>min</th>\n",
       "      <td>0.000000</td>\n",
       "      <td>0.000000</td>\n",
       "      <td>21.000000</td>\n",
       "      <td>0.000000</td>\n",
       "      <td>0.0</td>\n",
       "      <td>0.000000</td>\n",
       "      <td>0.000000</td>\n",
       "      <td>0.000000</td>\n",
       "      <td>0.0</td>\n",
       "      <td>0.000000</td>\n",
       "      <td>0.000000</td>\n",
       "    </tr>\n",
       "    <tr>\n",
       "      <th>25%</th>\n",
       "      <td>0.000000</td>\n",
       "      <td>0.000000</td>\n",
       "      <td>32.000000</td>\n",
       "      <td>0.000000</td>\n",
       "      <td>0.0</td>\n",
       "      <td>2200.000000</td>\n",
       "      <td>0.000000</td>\n",
       "      <td>0.000000</td>\n",
       "      <td>0.0</td>\n",
       "      <td>0.000000</td>\n",
       "      <td>0.000000</td>\n",
       "    </tr>\n",
       "    <tr>\n",
       "      <th>50%</th>\n",
       "      <td>0.000000</td>\n",
       "      <td>0.000875</td>\n",
       "      <td>52.000000</td>\n",
       "      <td>0.000000</td>\n",
       "      <td>0.0</td>\n",
       "      <td>4200.000000</td>\n",
       "      <td>2.000000</td>\n",
       "      <td>0.000000</td>\n",
       "      <td>0.0</td>\n",
       "      <td>0.000000</td>\n",
       "      <td>0.000000</td>\n",
       "    </tr>\n",
       "    <tr>\n",
       "      <th>75%</th>\n",
       "      <td>0.000000</td>\n",
       "      <td>1.000000</td>\n",
       "      <td>70.000000</td>\n",
       "      <td>0.000000</td>\n",
       "      <td>0.0</td>\n",
       "      <td>4500.000000</td>\n",
       "      <td>3.000000</td>\n",
       "      <td>0.000000</td>\n",
       "      <td>0.0</td>\n",
       "      <td>0.000000</td>\n",
       "      <td>0.000000</td>\n",
       "    </tr>\n",
       "    <tr>\n",
       "      <th>max</th>\n",
       "      <td>1.000000</td>\n",
       "      <td>1.000000</td>\n",
       "      <td>103.000000</td>\n",
       "      <td>98.000000</td>\n",
       "      <td>0.0</td>\n",
       "      <td>629000.000000</td>\n",
       "      <td>20.000000</td>\n",
       "      <td>98.000000</td>\n",
       "      <td>0.0</td>\n",
       "      <td>98.000000</td>\n",
       "      <td>6.000000</td>\n",
       "    </tr>\n",
       "  </tbody>\n",
       "</table>\n",
       "</div>"
      ],
      "text/plain": [
       "       SeriousDlqin2yrs  RevolvingUtilizationOfUnsecuredLines          age  \\\n",
       "count       4113.000000                           4113.000000  4113.000000   \n",
       "mean           0.082665                              0.450194    52.124970   \n",
       "std            0.275408                              0.497185    21.322905   \n",
       "min            0.000000                              0.000000    21.000000   \n",
       "25%            0.000000                              0.000000    32.000000   \n",
       "50%            0.000000                              0.000875    52.000000   \n",
       "75%            0.000000                              1.000000    70.000000   \n",
       "max            1.000000                              1.000000   103.000000   \n",
       "\n",
       "       NumberOfTime30-59DaysPastDueNotWorse  DebtRatio  MonthlyIncome  \\\n",
       "count                           4113.000000     4113.0    4113.000000   \n",
       "mean                               5.032580        0.0    4068.413080   \n",
       "std                               21.507982        0.0   10195.787426   \n",
       "min                                0.000000        0.0       0.000000   \n",
       "25%                                0.000000        0.0    2200.000000   \n",
       "50%                                0.000000        0.0    4200.000000   \n",
       "75%                                0.000000        0.0    4500.000000   \n",
       "max                               98.000000        0.0  629000.000000   \n",
       "\n",
       "       NumberOfOpenCreditLinesAndLoans  NumberOfTimes90DaysLate  \\\n",
       "count                      4113.000000              4113.000000   \n",
       "mean                          2.223195                 5.097982   \n",
       "std                           2.414849                21.498040   \n",
       "min                           0.000000                 0.000000   \n",
       "25%                           0.000000                 0.000000   \n",
       "50%                           2.000000                 0.000000   \n",
       "75%                           3.000000                 0.000000   \n",
       "max                          20.000000                98.000000   \n",
       "\n",
       "       NumberRealEstateLoansOrLines  NumberOfTime60-89DaysPastDueNotWorse  \\\n",
       "count                        4113.0                           4113.000000   \n",
       "mean                            0.0                              5.003404   \n",
       "std                             0.0                             21.513965   \n",
       "min                             0.0                              0.000000   \n",
       "25%                             0.0                              0.000000   \n",
       "50%                             0.0                              0.000000   \n",
       "75%                             0.0                              0.000000   \n",
       "max                             0.0                             98.000000   \n",
       "\n",
       "       NumberOfDependents  \n",
       "count         3708.000000  \n",
       "mean             0.330367  \n",
       "std              0.806686  \n",
       "min              0.000000  \n",
       "25%              0.000000  \n",
       "50%              0.000000  \n",
       "75%              0.000000  \n",
       "max              6.000000  "
      ]
     },
     "execution_count": 54,
     "metadata": {},
     "output_type": "execute_result"
    }
   ],
   "source": [
    "df[df.DebtRatio ==0].describe()"
   ]
  },
  {
   "cell_type": "code",
   "execution_count": 55,
   "id": "VYKnLg7zGLmV",
   "metadata": {
    "colab": {
     "base_uri": "https://localhost:8080/",
     "height": 338
    },
    "executionInfo": {
     "elapsed": 5,
     "status": "ok",
     "timestamp": 1727084026240,
     "user": {
      "displayName": "Luis Josue Díaz Alvarez",
      "userId": "04889251803537967222"
     },
     "user_tz": 360
    },
    "id": "VYKnLg7zGLmV",
    "outputId": "ddd15609-0d5e-412c-965a-2518ed1a9ae1"
   },
   "outputs": [
    {
     "data": {
      "text/html": [
       "<div>\n",
       "<style scoped>\n",
       "    .dataframe tbody tr th:only-of-type {\n",
       "        vertical-align: middle;\n",
       "    }\n",
       "\n",
       "    .dataframe tbody tr th {\n",
       "        vertical-align: top;\n",
       "    }\n",
       "\n",
       "    .dataframe thead th {\n",
       "        text-align: right;\n",
       "    }\n",
       "</style>\n",
       "<table border=\"1\" class=\"dataframe\">\n",
       "  <thead>\n",
       "    <tr style=\"text-align: right;\">\n",
       "      <th></th>\n",
       "      <th>SeriousDlqin2yrs</th>\n",
       "      <th>RevolvingUtilizationOfUnsecuredLines</th>\n",
       "      <th>age</th>\n",
       "      <th>NumberOfTime30-59DaysPastDueNotWorse</th>\n",
       "      <th>DebtRatio</th>\n",
       "      <th>MonthlyIncome</th>\n",
       "      <th>NumberOfOpenCreditLinesAndLoans</th>\n",
       "      <th>NumberOfTimes90DaysLate</th>\n",
       "      <th>NumberRealEstateLoansOrLines</th>\n",
       "      <th>NumberOfTime60-89DaysPastDueNotWorse</th>\n",
       "      <th>NumberOfDependents</th>\n",
       "    </tr>\n",
       "  </thead>\n",
       "  <tbody>\n",
       "    <tr>\n",
       "      <th>count</th>\n",
       "      <td>35137.000000</td>\n",
       "      <td>35137.000000</td>\n",
       "      <td>35137.000000</td>\n",
       "      <td>35137.000000</td>\n",
       "      <td>35137.000000</td>\n",
       "      <td>35137.000000</td>\n",
       "      <td>35137.000000</td>\n",
       "      <td>35137.000000</td>\n",
       "      <td>35137.000000</td>\n",
       "      <td>35137.000000</td>\n",
       "      <td>31689.000000</td>\n",
       "    </tr>\n",
       "    <tr>\n",
       "      <th>mean</th>\n",
       "      <td>0.065202</td>\n",
       "      <td>7.076243</td>\n",
       "      <td>55.006261</td>\n",
       "      <td>0.299286</td>\n",
       "      <td>1505.989566</td>\n",
       "      <td>465.009022</td>\n",
       "      <td>8.071662</td>\n",
       "      <td>0.165979</td>\n",
       "      <td>1.082933</td>\n",
       "      <td>0.140393</td>\n",
       "      <td>0.436650</td>\n",
       "    </tr>\n",
       "    <tr>\n",
       "      <th>std</th>\n",
       "      <td>0.246885</td>\n",
       "      <td>239.510379</td>\n",
       "      <td>14.908925</td>\n",
       "      <td>2.841582</td>\n",
       "      <td>3999.026847</td>\n",
       "      <td>1576.086349</td>\n",
       "      <td>5.098427</td>\n",
       "      <td>2.806182</td>\n",
       "      <td>1.277702</td>\n",
       "      <td>2.784314</td>\n",
       "      <td>0.927896</td>\n",
       "    </tr>\n",
       "    <tr>\n",
       "      <th>min</th>\n",
       "      <td>0.000000</td>\n",
       "      <td>0.000000</td>\n",
       "      <td>21.000000</td>\n",
       "      <td>0.000000</td>\n",
       "      <td>1.000500</td>\n",
       "      <td>0.000000</td>\n",
       "      <td>0.000000</td>\n",
       "      <td>0.000000</td>\n",
       "      <td>0.000000</td>\n",
       "      <td>0.000000</td>\n",
       "      <td>0.000000</td>\n",
       "    </tr>\n",
       "    <tr>\n",
       "      <th>25%</th>\n",
       "      <td>0.000000</td>\n",
       "      <td>0.022458</td>\n",
       "      <td>44.000000</td>\n",
       "      <td>0.000000</td>\n",
       "      <td>42.000000</td>\n",
       "      <td>0.000000</td>\n",
       "      <td>4.000000</td>\n",
       "      <td>0.000000</td>\n",
       "      <td>0.000000</td>\n",
       "      <td>0.000000</td>\n",
       "      <td>0.000000</td>\n",
       "    </tr>\n",
       "    <tr>\n",
       "      <th>50%</th>\n",
       "      <td>0.000000</td>\n",
       "      <td>0.105250</td>\n",
       "      <td>55.000000</td>\n",
       "      <td>0.000000</td>\n",
       "      <td>907.000000</td>\n",
       "      <td>0.000000</td>\n",
       "      <td>7.000000</td>\n",
       "      <td>0.000000</td>\n",
       "      <td>1.000000</td>\n",
       "      <td>0.000000</td>\n",
       "      <td>0.000000</td>\n",
       "    </tr>\n",
       "    <tr>\n",
       "      <th>75%</th>\n",
       "      <td>0.000000</td>\n",
       "      <td>0.490363</td>\n",
       "      <td>65.000000</td>\n",
       "      <td>0.000000</td>\n",
       "      <td>2210.000000</td>\n",
       "      <td>0.000000</td>\n",
       "      <td>11.000000</td>\n",
       "      <td>0.000000</td>\n",
       "      <td>2.000000</td>\n",
       "      <td>0.000000</td>\n",
       "      <td>0.000000</td>\n",
       "    </tr>\n",
       "    <tr>\n",
       "      <th>max</th>\n",
       "      <td>1.000000</td>\n",
       "      <td>22198.000000</td>\n",
       "      <td>109.000000</td>\n",
       "      <td>98.000000</td>\n",
       "      <td>329664.000000</td>\n",
       "      <td>70000.000000</td>\n",
       "      <td>58.000000</td>\n",
       "      <td>98.000000</td>\n",
       "      <td>54.000000</td>\n",
       "      <td>98.000000</td>\n",
       "      <td>10.000000</td>\n",
       "    </tr>\n",
       "  </tbody>\n",
       "</table>\n",
       "</div>"
      ],
      "text/plain": [
       "       SeriousDlqin2yrs  RevolvingUtilizationOfUnsecuredLines           age  \\\n",
       "count      35137.000000                          35137.000000  35137.000000   \n",
       "mean           0.065202                              7.076243     55.006261   \n",
       "std            0.246885                            239.510379     14.908925   \n",
       "min            0.000000                              0.000000     21.000000   \n",
       "25%            0.000000                              0.022458     44.000000   \n",
       "50%            0.000000                              0.105250     55.000000   \n",
       "75%            0.000000                              0.490363     65.000000   \n",
       "max            1.000000                          22198.000000    109.000000   \n",
       "\n",
       "       NumberOfTime30-59DaysPastDueNotWorse      DebtRatio  MonthlyIncome  \\\n",
       "count                          35137.000000   35137.000000   35137.000000   \n",
       "mean                               0.299286    1505.989566     465.009022   \n",
       "std                                2.841582    3999.026847    1576.086349   \n",
       "min                                0.000000       1.000500       0.000000   \n",
       "25%                                0.000000      42.000000       0.000000   \n",
       "50%                                0.000000     907.000000       0.000000   \n",
       "75%                                0.000000    2210.000000       0.000000   \n",
       "max                               98.000000  329664.000000   70000.000000   \n",
       "\n",
       "       NumberOfOpenCreditLinesAndLoans  NumberOfTimes90DaysLate  \\\n",
       "count                     35137.000000             35137.000000   \n",
       "mean                          8.071662                 0.165979   \n",
       "std                           5.098427                 2.806182   \n",
       "min                           0.000000                 0.000000   \n",
       "25%                           4.000000                 0.000000   \n",
       "50%                           7.000000                 0.000000   \n",
       "75%                          11.000000                 0.000000   \n",
       "max                          58.000000                98.000000   \n",
       "\n",
       "       NumberRealEstateLoansOrLines  NumberOfTime60-89DaysPastDueNotWorse  \\\n",
       "count                  35137.000000                          35137.000000   \n",
       "mean                       1.082933                              0.140393   \n",
       "std                        1.277702                              2.784314   \n",
       "min                        0.000000                              0.000000   \n",
       "25%                        0.000000                              0.000000   \n",
       "50%                        1.000000                              0.000000   \n",
       "75%                        2.000000                              0.000000   \n",
       "max                       54.000000                             98.000000   \n",
       "\n",
       "       NumberOfDependents  \n",
       "count        31689.000000  \n",
       "mean             0.436650  \n",
       "std              0.927896  \n",
       "min              0.000000  \n",
       "25%              0.000000  \n",
       "50%              0.000000  \n",
       "75%              0.000000  \n",
       "max             10.000000  "
      ]
     },
     "execution_count": 55,
     "metadata": {},
     "output_type": "execute_result"
    }
   ],
   "source": [
    "df[df.DebtRatio>1].describe()"
   ]
  },
  {
   "cell_type": "code",
   "execution_count": 56,
   "id": "rC-CEXLIGUed",
   "metadata": {
    "colab": {
     "base_uri": "https://localhost:8080/"
    },
    "executionInfo": {
     "elapsed": 5,
     "status": "ok",
     "timestamp": 1727084026240,
     "user": {
      "displayName": "Luis Josue Díaz Alvarez",
      "userId": "04889251803537967222"
     },
     "user_tz": 360
    },
    "id": "rC-CEXLIGUed",
    "outputId": "90700b61-18eb-44bf-d6fa-f0d9a8e28373"
   },
   "outputs": [
    {
     "data": {
      "text/plain": [
       "0.23424666666666666"
      ]
     },
     "execution_count": 56,
     "metadata": {},
     "output_type": "execute_result"
    }
   ],
   "source": [
    "35137/df.shape[0]"
   ]
  },
  {
   "cell_type": "code",
   "execution_count": 57,
   "id": "0b2bebbb-d2e0-4f91-86b5-fc5b1cfe6089",
   "metadata": {
    "colab": {
     "base_uri": "https://localhost:8080/",
     "height": 429
    },
    "executionInfo": {
     "elapsed": 387,
     "status": "ok",
     "timestamp": 1727084026624,
     "user": {
      "displayName": "Luis Josue Díaz Alvarez",
      "userId": "04889251803537967222"
     },
     "user_tz": 360
    },
    "id": "0b2bebbb-d2e0-4f91-86b5-fc5b1cfe6089",
    "outputId": "0320760b-a47a-44e8-f572-007b360fc13d"
   },
   "outputs": [
    {
     "data": {
      "text/plain": [
       "SeriousDlqin2yrs                        0.0\n",
       "RevolvingUtilizationOfUnsecuredLines    0.0\n",
       "age                                     0.0\n",
       "NumberOfTime30-59DaysPastDueNotWorse    0.0\n",
       "DebtRatio                               0.0\n",
       "MonthlyIncome                           0.0\n",
       "NumberOfOpenCreditLinesAndLoans         0.0\n",
       "NumberOfTimes90DaysLate                 0.0\n",
       "NumberRealEstateLoansOrLines            0.0\n",
       "NumberOfTime60-89DaysPastDueNotWorse    0.0\n",
       "NumberOfDependents                      0.0\n",
       "dtype: float64"
      ]
     },
     "execution_count": 57,
     "metadata": {},
     "output_type": "execute_result"
    }
   ],
   "source": [
    "df[df.MonthlyIncome.isna()].sum()"
   ]
  },
  {
   "cell_type": "markdown",
   "id": "FBoTfK1rQrQs",
   "metadata": {
    "id": "FBoTfK1rQrQs"
   },
   "source": [
    "Estos son los casos minimos en los cuales podemos hacer cambios sin ser drásticos en los datos. Además observemos que;"
   ]
  },
  {
   "cell_type": "code",
   "execution_count": 58,
   "id": "6b49c625-20dc-461a-b726-7dd90fbbb012",
   "metadata": {
    "colab": {
     "base_uri": "https://localhost:8080/",
     "height": 429
    },
    "executionInfo": {
     "elapsed": 16,
     "status": "ok",
     "timestamp": 1727084026624,
     "user": {
      "displayName": "Luis Josue Díaz Alvarez",
      "userId": "04889251803537967222"
     },
     "user_tz": 360
    },
    "id": "6b49c625-20dc-461a-b726-7dd90fbbb012",
    "outputId": "383cdc99-2a21-4604-841e-9f221ccb5d57"
   },
   "outputs": [
    {
     "data": {
      "text/plain": [
       "SeriousDlqin2yrs                        0.000\n",
       "RevolvingUtilizationOfUnsecuredLines    0.000\n",
       "age                                     0.000\n",
       "NumberOfTime30-59DaysPastDueNotWorse    0.000\n",
       "DebtRatio                               0.000\n",
       "MonthlyIncome                           0.000\n",
       "NumberOfOpenCreditLinesAndLoans         0.000\n",
       "NumberOfTimes90DaysLate                 0.000\n",
       "NumberRealEstateLoansOrLines            0.000\n",
       "NumberOfTime60-89DaysPastDueNotWorse    0.000\n",
       "NumberOfDependents                      2.616\n",
       "dtype: float64"
      ]
     },
     "execution_count": 58,
     "metadata": {},
     "output_type": "execute_result"
    }
   ],
   "source": [
    "(df.isnull().sum()/df.shape[0])*100\n"
   ]
  },
  {
   "cell_type": "markdown",
   "id": "nhvZsz4jQzwd",
   "metadata": {
    "id": "nhvZsz4jQzwd"
   },
   "source": [
    "Ahora tenemos una pérdida de información del 2.616% Si no eliminamos estos datos. Se tiene en la variable target."
   ]
  },
  {
   "cell_type": "code",
   "execution_count": 59,
   "id": "kFW8___HRAET",
   "metadata": {
    "colab": {
     "base_uri": "https://localhost:8080/"
    },
    "executionInfo": {
     "elapsed": 16,
     "status": "ok",
     "timestamp": 1727084026624,
     "user": {
      "displayName": "Luis Josue Díaz Alvarez",
      "userId": "04889251803537967222"
     },
     "user_tz": 360
    },
    "id": "kFW8___HRAET",
    "outputId": "e00f17ca-59c8-4d51-9e92-5e124196755f"
   },
   "outputs": [
    {
     "data": {
      "text/plain": [
       "array([1, 0])"
      ]
     },
     "execution_count": 59,
     "metadata": {},
     "output_type": "execute_result"
    }
   ],
   "source": [
    "df['SeriousDlqin2yrs'].unique()"
   ]
  },
  {
   "cell_type": "markdown",
   "id": "ZHmc_zsHRzrc",
   "metadata": {
    "id": "ZHmc_zsHRzrc"
   },
   "source": [
    "Porcentualmente tenemos;"
   ]
  },
  {
   "cell_type": "code",
   "execution_count": 60,
   "id": "Ah3cxzu-RgBn",
   "metadata": {
    "colab": {
     "base_uri": "https://localhost:8080/",
     "height": 178
    },
    "executionInfo": {
     "elapsed": 14,
     "status": "ok",
     "timestamp": 1727084026624,
     "user": {
      "displayName": "Luis Josue Díaz Alvarez",
      "userId": "04889251803537967222"
     },
     "user_tz": 360
    },
    "id": "Ah3cxzu-RgBn",
    "outputId": "acb57a64-a940-4ce4-904e-20e45fadd080"
   },
   "outputs": [
    {
     "data": {
      "text/plain": [
       "SeriousDlqin2yrs\n",
       "0    0.93316\n",
       "1    0.06684\n",
       "Name: count, dtype: float64"
      ]
     },
     "execution_count": 60,
     "metadata": {},
     "output_type": "execute_result"
    }
   ],
   "source": [
    "df['SeriousDlqin2yrs'].value_counts()/df.shape[0]"
   ]
  },
  {
   "cell_type": "markdown",
   "id": "zCq0YfbpR2q8",
   "metadata": {
    "id": "zCq0YfbpR2q8"
   },
   "source": [
    "Si eliminamos los datos que son NA, esto cambia a;"
   ]
  },
  {
   "cell_type": "code",
   "execution_count": 61,
   "id": "e7157fe9-5927-45c7-a08b-a437fe24a8a9",
   "metadata": {
    "executionInfo": {
     "elapsed": 13,
     "status": "ok",
     "timestamp": 1727084026624,
     "user": {
      "displayName": "Luis Josue Díaz Alvarez",
      "userId": "04889251803537967222"
     },
     "user_tz": 360
    },
    "id": "e7157fe9-5927-45c7-a08b-a437fe24a8a9"
   },
   "outputs": [],
   "source": [
    "df = df[~df.NumberOfDependents.isna()]\n",
    "df.reset_index(drop=True, inplace=True)"
   ]
  },
  {
   "cell_type": "markdown",
   "id": "apmMZVinSEle",
   "metadata": {
    "id": "apmMZVinSEle"
   },
   "source": [
    "Lo cual nos permite no disminuir mas el objetivo de los impagos."
   ]
  },
  {
   "cell_type": "code",
   "execution_count": 62,
   "id": "hQOB-esQMX7t",
   "metadata": {
    "colab": {
     "base_uri": "https://localhost:8080/",
     "height": 429
    },
    "executionInfo": {
     "elapsed": 13,
     "status": "ok",
     "timestamp": 1727084026624,
     "user": {
      "displayName": "Luis Josue Díaz Alvarez",
      "userId": "04889251803537967222"
     },
     "user_tz": 360
    },
    "id": "hQOB-esQMX7t",
    "outputId": "2ce1dbc2-e6e3-4585-dd75-511ddc8fc366"
   },
   "outputs": [
    {
     "data": {
      "text/plain": [
       "SeriousDlqin2yrs                        0.0\n",
       "RevolvingUtilizationOfUnsecuredLines    0.0\n",
       "age                                     0.0\n",
       "NumberOfTime30-59DaysPastDueNotWorse    0.0\n",
       "DebtRatio                               0.0\n",
       "MonthlyIncome                           0.0\n",
       "NumberOfOpenCreditLinesAndLoans         0.0\n",
       "NumberOfTimes90DaysLate                 0.0\n",
       "NumberRealEstateLoansOrLines            0.0\n",
       "NumberOfTime60-89DaysPastDueNotWorse    0.0\n",
       "NumberOfDependents                      0.0\n",
       "dtype: float64"
      ]
     },
     "execution_count": 62,
     "metadata": {},
     "output_type": "execute_result"
    }
   ],
   "source": [
    "(df.isnull().sum()/df.shape[0])*100"
   ]
  },
  {
   "cell_type": "code",
   "execution_count": 63,
   "id": "nru0sI9oGwKQ",
   "metadata": {
    "colab": {
     "base_uri": "https://localhost:8080/",
     "height": 335
    },
    "executionInfo": {
     "elapsed": 13,
     "status": "ok",
     "timestamp": 1727084026624,
     "user": {
      "displayName": "Luis Josue Díaz Alvarez",
      "userId": "04889251803537967222"
     },
     "user_tz": 360
    },
    "id": "nru0sI9oGwKQ",
    "outputId": "c1bbe7e5-aa8d-4fb5-9b96-6656fd6e87e9"
   },
   "outputs": [
    {
     "data": {
      "text/plain": [
       "count    146076.000000\n",
       "mean          0.757222\n",
       "std           1.115086\n",
       "min           0.000000\n",
       "25%           0.000000\n",
       "50%           0.000000\n",
       "75%           1.000000\n",
       "max          20.000000\n",
       "Name: NumberOfDependents, dtype: float64"
      ]
     },
     "execution_count": 63,
     "metadata": {},
     "output_type": "execute_result"
    }
   ],
   "source": [
    "df.NumberOfDependents.describe()"
   ]
  },
  {
   "cell_type": "markdown",
   "id": "OhdIYq3EU504",
   "metadata": {
    "id": "OhdIYq3EU504"
   },
   "source": [
    "En este contexto creemos que no podemos tratar de imputar estos nulos, ya que la cantidad de personas por familia impactan mucho en el debratio. Por lo que agreagar datos podria sesgar de manera intencional un registro a una clase. Preferimos eliminarlos además que ahora solo es el \t2.616 porciento del total de la muestra y el impacto de la variable objetivo consideramos que es tolerable, tendremos esto en cuenta al momento del entrenamiento."
   ]
  },
  {
   "cell_type": "markdown",
   "id": "UZNgdwl2Jd_w",
   "metadata": {
    "id": "UZNgdwl2Jd_w"
   },
   "source": [
    "# Notas importantes"
   ]
  },
  {
   "cell_type": "code",
   "execution_count": 64,
   "id": "KjzqbmP-Hi36",
   "metadata": {
    "colab": {
     "base_uri": "https://localhost:8080/"
    },
    "executionInfo": {
     "elapsed": 12,
     "status": "ok",
     "timestamp": 1727084026624,
     "user": {
      "displayName": "Luis Josue Díaz Alvarez",
      "userId": "04889251803537967222"
     },
     "user_tz": 360
    },
    "id": "KjzqbmP-Hi36",
    "outputId": "98e137c3-688f-43b4-992b-8067006104b2"
   },
   "outputs": [
    {
     "data": {
      "text/plain": [
       "np.float64(0.7572222678605657)"
      ]
     },
     "execution_count": 64,
     "metadata": {},
     "output_type": "execute_result"
    }
   ],
   "source": [
    "df.NumberOfDependents.mean()"
   ]
  },
  {
   "cell_type": "code",
   "execution_count": 65,
   "id": "36Pip5C5SAdV",
   "metadata": {
    "colab": {
     "base_uri": "https://localhost:8080/",
     "height": 523
    },
    "executionInfo": {
     "elapsed": 11,
     "status": "ok",
     "timestamp": 1727084026624,
     "user": {
      "displayName": "Luis Josue Díaz Alvarez",
      "userId": "04889251803537967222"
     },
     "user_tz": 360
    },
    "id": "36Pip5C5SAdV",
    "outputId": "d5452625-e1c3-49c2-c84c-d23c8e3268c9"
   },
   "outputs": [
    {
     "data": {
      "text/plain": [
       "NumberOfDependents\n",
       "0.0     0.594909\n",
       "1.0     0.180153\n",
       "2.0     0.133643\n",
       "3.0     0.064918\n",
       "4.0     0.019593\n",
       "5.0     0.005107\n",
       "6.0     0.001082\n",
       "7.0     0.000349\n",
       "8.0     0.000164\n",
       "10.0    0.000034\n",
       "9.0     0.000034\n",
       "20.0    0.000007\n",
       "13.0    0.000007\n",
       "Name: count, dtype: float64"
      ]
     },
     "execution_count": 65,
     "metadata": {},
     "output_type": "execute_result"
    }
   ],
   "source": [
    "df['NumberOfDependents'].value_counts()/df.shape[0]"
   ]
  },
  {
   "cell_type": "code",
   "execution_count": 66,
   "id": "8x7lbQ5eIcl7",
   "metadata": {
    "colab": {
     "base_uri": "https://localhost:8080/"
    },
    "executionInfo": {
     "elapsed": 11,
     "status": "ok",
     "timestamp": 1727084026624,
     "user": {
      "displayName": "Luis Josue Díaz Alvarez",
      "userId": "04889251803537967222"
     },
     "user_tz": 360
    },
    "id": "8x7lbQ5eIcl7",
    "outputId": "cb87ad6a-a296-489b-a5d4-21a3d06c8d5b"
   },
   "outputs": [
    {
     "data": {
      "text/plain": [
       "311"
      ]
     },
     "execution_count": 66,
     "metadata": {},
     "output_type": "execute_result"
    }
   ],
   "source": [
    "sum(df.loc[df.SeriousDlqin2yrs==1,'age'] <= 25)"
   ]
  },
  {
   "cell_type": "code",
   "execution_count": 67,
   "id": "tmfIoO26KL_u",
   "metadata": {
    "colab": {
     "base_uri": "https://localhost:8080/"
    },
    "executionInfo": {
     "elapsed": 11,
     "status": "ok",
     "timestamp": 1727084026625,
     "user": {
      "displayName": "Luis Josue Díaz Alvarez",
      "userId": "04889251803537967222"
     },
     "user_tz": 360
    },
    "id": "tmfIoO26KL_u",
    "outputId": "a41debb0-f6cc-4691-f762-60e3b99c24c5"
   },
   "outputs": [
    {
     "data": {
      "text/plain": [
       "218"
      ]
     },
     "execution_count": 67,
     "metadata": {},
     "output_type": "execute_result"
    }
   ],
   "source": [
    "sum(df.loc[df.SeriousDlqin2yrs==1,'age'] >= 75)"
   ]
  },
  {
   "cell_type": "markdown",
   "id": "c4407f36-8d16-4b77-a652-caaf16248e11",
   "metadata": {
    "id": "c4407f36-8d16-4b77-a652-caaf16248e11"
   },
   "source": [
    "### Duplicados"
   ]
  },
  {
   "cell_type": "code",
   "execution_count": 68,
   "id": "6e2aea2a-bc98-4278-a89e-1aa59f149025",
   "metadata": {
    "colab": {
     "base_uri": "https://localhost:8080/"
    },
    "executionInfo": {
     "elapsed": 10,
     "status": "ok",
     "timestamp": 1727084026625,
     "user": {
      "displayName": "Luis Josue Díaz Alvarez",
      "userId": "04889251803537967222"
     },
     "user_tz": 360
    },
    "id": "6e2aea2a-bc98-4278-a89e-1aa59f149025",
    "outputId": "c19f1a51-f4e4-4386-cc04-2bd0c9726f60"
   },
   "outputs": [
    {
     "data": {
      "text/plain": [
       "np.int64(520)"
      ]
     },
     "execution_count": 68,
     "metadata": {},
     "output_type": "execute_result"
    }
   ],
   "source": [
    "# A nivel general\n",
    "df.duplicated().sum()"
   ]
  },
  {
   "cell_type": "code",
   "execution_count": 69,
   "id": "b8071755-d380-45ce-8ad7-2a4d2b054a11",
   "metadata": {
    "colab": {
     "base_uri": "https://localhost:8080/"
    },
    "executionInfo": {
     "elapsed": 9,
     "status": "ok",
     "timestamp": 1727084026625,
     "user": {
      "displayName": "Luis Josue Díaz Alvarez",
      "userId": "04889251803537967222"
     },
     "user_tz": 360
    },
    "id": "b8071755-d380-45ce-8ad7-2a4d2b054a11",
    "outputId": "aa29bd54-dbd0-4d5e-ceea-c626cf187199"
   },
   "outputs": [
    {
     "data": {
      "text/plain": [
       "True"
      ]
     },
     "execution_count": 69,
     "metadata": {},
     "output_type": "execute_result"
    }
   ],
   "source": [
    "# A nivel PK\n",
    "df.index.nunique()==df.shape[0]"
   ]
  },
  {
   "cell_type": "markdown",
   "id": "Oe9sDdKH7A-3",
   "metadata": {
    "id": "Oe9sDdKH7A-3"
   },
   "source": [
    "## Nulos\n",
    "Esta parte evalua si existen datos nulos."
   ]
  },
  {
   "cell_type": "code",
   "execution_count": 70,
   "id": "npNiTQYB7Fvp",
   "metadata": {
    "colab": {
     "base_uri": "https://localhost:8080/",
     "height": 429
    },
    "executionInfo": {
     "elapsed": 6,
     "status": "ok",
     "timestamp": 1727084027014,
     "user": {
      "displayName": "Luis Josue Díaz Alvarez",
      "userId": "04889251803537967222"
     },
     "user_tz": 360
    },
    "id": "npNiTQYB7Fvp",
    "outputId": "7deb54eb-9226-4a28-fa86-bc90e259546f"
   },
   "outputs": [
    {
     "data": {
      "text/plain": [
       "SeriousDlqin2yrs                        0\n",
       "RevolvingUtilizationOfUnsecuredLines    0\n",
       "age                                     0\n",
       "NumberOfTime30-59DaysPastDueNotWorse    0\n",
       "DebtRatio                               0\n",
       "MonthlyIncome                           0\n",
       "NumberOfOpenCreditLinesAndLoans         0\n",
       "NumberOfTimes90DaysLate                 0\n",
       "NumberRealEstateLoansOrLines            0\n",
       "NumberOfTime60-89DaysPastDueNotWorse    0\n",
       "NumberOfDependents                      0\n",
       "dtype: int64"
      ]
     },
     "execution_count": 70,
     "metadata": {},
     "output_type": "execute_result"
    }
   ],
   "source": [
    "df.isnull().sum()"
   ]
  },
  {
   "cell_type": "markdown",
   "id": "1aHQ_N-j7JYo",
   "metadata": {
    "id": "1aHQ_N-j7JYo"
   },
   "source": [
    "No se observan datos nulos. Con eso se finaliza la integridad de los datos para el eda."
   ]
  },
  {
   "cell_type": "markdown",
   "id": "z6XjissdTFqt",
   "metadata": {
    "id": "z6XjissdTFqt"
   },
   "source": [
    "# Metadatos\n",
    "Tenemos valores unicos en nuestro data set. Las siguientes lineas nos permitirámn hacer bien la estadística en la siguiente sección."
   ]
  },
  {
   "cell_type": "code",
   "execution_count": 71,
   "id": "ITjG9X9NUmgQ",
   "metadata": {
    "colab": {
     "base_uri": "https://localhost:8080/"
    },
    "executionInfo": {
     "elapsed": 7,
     "status": "ok",
     "timestamp": 1727084027015,
     "user": {
      "displayName": "Luis Josue Díaz Alvarez",
      "userId": "04889251803537967222"
     },
     "user_tz": 360
    },
    "id": "ITjG9X9NUmgQ",
    "outputId": "4df43962-b46f-4f24-d7c2-17f41c725cec"
   },
   "outputs": [
    {
     "data": {
      "text/plain": [
       "Index(['SeriousDlqin2yrs', 'RevolvingUtilizationOfUnsecuredLines', 'age',\n",
       "       'NumberOfTime30-59DaysPastDueNotWorse', 'DebtRatio', 'MonthlyIncome',\n",
       "       'NumberOfOpenCreditLinesAndLoans', 'NumberOfTimes90DaysLate',\n",
       "       'NumberRealEstateLoansOrLines', 'NumberOfTime60-89DaysPastDueNotWorse',\n",
       "       'NumberOfDependents'],\n",
       "      dtype='object')"
      ]
     },
     "execution_count": 71,
     "metadata": {},
     "output_type": "execute_result"
    }
   ],
   "source": [
    "df.columns"
   ]
  },
  {
   "cell_type": "markdown",
   "id": "Q7PFHFvy1bRD",
   "metadata": {
    "id": "Q7PFHFvy1bRD"
   },
   "source": [
    "## Diccionario de variales.\n",
    "\n",
    "| Variable Name                                  | Description                                                                                         | Type      |\n",
    "|------------------------------------------------|-----------------------------------------------------------------------------------------------------|-----------|\n",
    "| SeriousDlqin2yrs                               | Person experienced 90 days past due delinquency or worse                                             | Y/N       |\n",
    "| RevolvingUtilizationOfUnsecuredLines           | Total balance on credit cards and personal lines of credit except real estate divided by credit limits| percentage|\n",
    "| age                                            | Age of borrower in years                                                                             | integer   |\n",
    "| NumberOfTime30-59DaysPastDueNotWorse           | Number of times borrower has been 30-59 days past due but no worse in the last 2 years               | integer   |\n",
    "| DebtRatio                                      | Monthly debt payments, alimony, living costs divided by monthly gross income                         | percentage|\n",
    "| MonthlyIncome                                  | Monthly income                                                                                       | real      |\n",
    "| NumberOfOpenCreditLinesAndLoans                | Number of open loans (installment like car loan or mortgage) and lines of credit (e.g. credit cards) | integer   |\n",
    "| NumberOfTimes90DaysLate                        | Number of times borrower has been 90 days or more past due                                           | integer   |\n",
    "| NumberRealEstateLoansOrLines                   | Number of mortgage and real estate loans including home equity lines of credit                       | integer   |\n",
    "| NumberOfTime60-89DaysPastDueNotWorse           | Number of times borrower has been 60-89 days past due but no worse in the last 2 years               | integer   |\n",
    "| NumberOfDependents                             | Number of dependents in family excluding themselves (spouse, children, etc.)                         | integer   |\n",
    "\n",
    "Vamos a contextualizar la tabla anterior.\n",
    "\n",
    "\n",
    "| Nombre de la variable| Descripción | Tipo|\n",
    "|------------------------------------------------|-----------------------------------------------------------------------------------------------------|-----------|\n",
    "| moroso |  Persona que no ha pagado en mas de 90 dias| Moroso/ No moroso  |\n",
    "| Porcentaje crediticio | Proporcion de la linea de credito usada| Porcentaje|\n",
    "|edad| Edad del cliente en años | entero |\n",
    "|Retrasos bimestrales | Cantidad de veces que no se ha pagado en dos meses en una plazo de dos años | entero   |\n",
    "| razon_de_deuda| Deudas dividido por el ingreso bruto | porcerntaje|\n",
    "| ingreso_mensual| Ingreso mensual | decimal |\n",
    "| cantidad_de_prestamos | Número de préstamos abiertos (a plazos, como préstamos para automóviles o hipotecas) y líneas de crédito (por ejemplo, tarjetas de crédito)| entero   |\n",
    "|cartera_vencida| Número de veces que el prestatario ha estado vencido por 90 días o más| entero   |\n",
    "| deuda_inmobiliara |Número de préstamos hipotecarios y inmobiliarios, incluidas líneas de crédito sobre el valor líquido de la vivienda| entero   |\n",
    "| retrasos_trimestrales| Número de veces que el prestatario ha estado vencido entre 60 y 89 días pero no ha empeorado en los últimos 2 años| entero   |\n",
    "|numero_dependientes | Cantidad de personas en la familia | entero   |\n",
    "\n",
    "Por tanto vamos a renombrar para nuestro estudio.\n"
   ]
  },
  {
   "cell_type": "code",
   "execution_count": 72,
   "id": "27b1357b-41db-4956-bca3-b449c707916f",
   "metadata": {
    "executionInfo": {
     "elapsed": 5,
     "status": "ok",
     "timestamp": 1727084027015,
     "user": {
      "displayName": "Luis Josue Díaz Alvarez",
      "userId": "04889251803537967222"
     },
     "user_tz": 360
    },
    "id": "27b1357b-41db-4956-bca3-b449c707916f"
   },
   "outputs": [],
   "source": [
    "df.columns = ['moroso', 'porcentaje_crediticio', 'edad', 'retrasos_bimestrales', 'razon_de_deuda','ingresos', 'cantidad_de_prestamos', 'cartera_vencida','deuda_inmobiliara','retrasos_trimestrales','numero_dependientes']"
   ]
  },
  {
   "cell_type": "code",
   "execution_count": 73,
   "id": "IoXrmUJLbjqd",
   "metadata": {
    "executionInfo": {
     "elapsed": 4,
     "status": "ok",
     "timestamp": 1727084027015,
     "user": {
      "displayName": "Luis Josue Díaz Alvarez",
      "userId": "04889251803537967222"
     },
     "user_tz": 360
    },
    "id": "IoXrmUJLbjqd"
   },
   "outputs": [],
   "source": [
    "def categoria_edades(edad):\n",
    "    # Aquí debes retornar un solo valor basado en la edad, por ejemplo:\n",
    "    if edad < 35:\n",
    "        return 'Joven'\n",
    "    elif edad < 45:\n",
    "        return 'Adulto Joven'\n",
    "    elif edad < 65:\n",
    "        return 'Adulto'\n",
    "    else:\n",
    "        return 'Adulto mayor'\n",
    "\n",
    "Q1 = df['ingresos'].quantile(0.25)\n",
    "Q2 = df['ingresos'].quantile(0.75)\n",
    "\n",
    "# Esta fución depende totalmente de los datos. No pudimos conseguir informacion sobre esto, por lo que pensamos que es la mejor manera de segregar la información.\n",
    "def clases_social(ingreso):\n",
    "  if ingreso < Q1:\n",
    "    return 'Bajo'\n",
    "  elif ingreso < Q2:\n",
    "    return 'Medio'\n",
    "  else:\n",
    "    return 'Alto'\n",
    "\n",
    "def categoria(variable):\n",
    "    # Respecto a la edad de la persona se le asigna un ingreso aproximado de ese año.\n",
    "    if variable == 1 :\n",
    "        return \"Moroso\"\n",
    "    else:\n",
    "        return \"No moroso\""
   ]
  },
  {
   "cell_type": "code",
   "execution_count": 74,
   "id": "NJnEPu5NCrEO",
   "metadata": {
    "colab": {
     "base_uri": "https://localhost:8080/"
    },
    "executionInfo": {
     "elapsed": 4,
     "status": "ok",
     "timestamp": 1727084027015,
     "user": {
      "displayName": "Luis Josue Díaz Alvarez",
      "userId": "04889251803537967222"
     },
     "user_tz": 360
    },
    "id": "NJnEPu5NCrEO",
    "outputId": "1d11704b-9404-4d6a-c693-86e345e05553"
   },
   "outputs": [
    {
     "data": {
      "text/plain": [
       "(np.float64(2000.0), np.float64(7500.0))"
      ]
     },
     "execution_count": 74,
     "metadata": {},
     "output_type": "execute_result"
    }
   ],
   "source": [
    "df['ingresos'].quantile(0.25),  df['ingresos'].quantile(0.75)"
   ]
  },
  {
   "cell_type": "code",
   "execution_count": 75,
   "id": "oyUMko7CtYgW",
   "metadata": {
    "executionInfo": {
     "elapsed": 340,
     "status": "ok",
     "timestamp": 1727084027352,
     "user": {
      "displayName": "Luis Josue Díaz Alvarez",
      "userId": "04889251803537967222"
     },
     "user_tz": 360
    },
    "id": "oyUMko7CtYgW"
   },
   "outputs": [],
   "source": [
    "df['generacion'] = df.edad.apply(categoria_edades)\n",
    "df['clase_social'] = df.ingresos.apply(clases_social)\n",
    "df['moroso'] = df['moroso'].apply(categoria)\n",
    "df['numero_dependientes'] = df['numero_dependientes'].astype(int)"
   ]
  },
  {
   "cell_type": "code",
   "execution_count": 76,
   "id": "ADkRURu8UdQ9",
   "metadata": {
    "colab": {
     "base_uri": "https://localhost:8080/",
     "height": 580
    },
    "executionInfo": {
     "elapsed": 3,
     "status": "ok",
     "timestamp": 1727084027352,
     "user": {
      "displayName": "Luis Josue Díaz Alvarez",
      "userId": "04889251803537967222"
     },
     "user_tz": 360
    },
    "id": "ADkRURu8UdQ9",
    "outputId": "2dfc3261-c5df-4f10-e828-2608de2af7ee"
   },
   "outputs": [
    {
     "data": {
      "text/html": [
       "<div>\n",
       "<style scoped>\n",
       "    .dataframe tbody tr th:only-of-type {\n",
       "        vertical-align: middle;\n",
       "    }\n",
       "\n",
       "    .dataframe tbody tr th {\n",
       "        vertical-align: top;\n",
       "    }\n",
       "\n",
       "    .dataframe thead th {\n",
       "        text-align: right;\n",
       "    }\n",
       "</style>\n",
       "<table border=\"1\" class=\"dataframe\">\n",
       "  <thead>\n",
       "    <tr style=\"text-align: right;\">\n",
       "      <th></th>\n",
       "      <th>moroso</th>\n",
       "      <th>porcentaje_crediticio</th>\n",
       "      <th>edad</th>\n",
       "      <th>retrasos_bimestrales</th>\n",
       "      <th>razon_de_deuda</th>\n",
       "      <th>ingresos</th>\n",
       "      <th>cantidad_de_prestamos</th>\n",
       "      <th>cartera_vencida</th>\n",
       "      <th>deuda_inmobiliara</th>\n",
       "      <th>retrasos_trimestrales</th>\n",
       "      <th>numero_dependientes</th>\n",
       "      <th>generacion</th>\n",
       "      <th>clase_social</th>\n",
       "    </tr>\n",
       "  </thead>\n",
       "  <tbody>\n",
       "    <tr>\n",
       "      <th>0</th>\n",
       "      <td>Moroso</td>\n",
       "      <td>0.766127</td>\n",
       "      <td>45</td>\n",
       "      <td>2</td>\n",
       "      <td>0.802982</td>\n",
       "      <td>9120.0</td>\n",
       "      <td>13</td>\n",
       "      <td>0</td>\n",
       "      <td>6</td>\n",
       "      <td>0</td>\n",
       "      <td>2</td>\n",
       "      <td>Adulto</td>\n",
       "      <td>Alto</td>\n",
       "    </tr>\n",
       "    <tr>\n",
       "      <th>1</th>\n",
       "      <td>No moroso</td>\n",
       "      <td>0.957151</td>\n",
       "      <td>40</td>\n",
       "      <td>0</td>\n",
       "      <td>0.121876</td>\n",
       "      <td>2600.0</td>\n",
       "      <td>4</td>\n",
       "      <td>0</td>\n",
       "      <td>0</td>\n",
       "      <td>0</td>\n",
       "      <td>1</td>\n",
       "      <td>Adulto Joven</td>\n",
       "      <td>Medio</td>\n",
       "    </tr>\n",
       "    <tr>\n",
       "      <th>2</th>\n",
       "      <td>No moroso</td>\n",
       "      <td>0.658180</td>\n",
       "      <td>38</td>\n",
       "      <td>1</td>\n",
       "      <td>0.085113</td>\n",
       "      <td>3042.0</td>\n",
       "      <td>2</td>\n",
       "      <td>1</td>\n",
       "      <td>0</td>\n",
       "      <td>0</td>\n",
       "      <td>0</td>\n",
       "      <td>Adulto Joven</td>\n",
       "      <td>Medio</td>\n",
       "    </tr>\n",
       "    <tr>\n",
       "      <th>3</th>\n",
       "      <td>No moroso</td>\n",
       "      <td>0.233810</td>\n",
       "      <td>30</td>\n",
       "      <td>0</td>\n",
       "      <td>0.036050</td>\n",
       "      <td>3300.0</td>\n",
       "      <td>5</td>\n",
       "      <td>0</td>\n",
       "      <td>0</td>\n",
       "      <td>0</td>\n",
       "      <td>0</td>\n",
       "      <td>Joven</td>\n",
       "      <td>Medio</td>\n",
       "    </tr>\n",
       "    <tr>\n",
       "      <th>4</th>\n",
       "      <td>No moroso</td>\n",
       "      <td>0.907239</td>\n",
       "      <td>49</td>\n",
       "      <td>1</td>\n",
       "      <td>0.024926</td>\n",
       "      <td>63588.0</td>\n",
       "      <td>7</td>\n",
       "      <td>0</td>\n",
       "      <td>1</td>\n",
       "      <td>0</td>\n",
       "      <td>0</td>\n",
       "      <td>Adulto</td>\n",
       "      <td>Alto</td>\n",
       "    </tr>\n",
       "    <tr>\n",
       "      <th>...</th>\n",
       "      <td>...</td>\n",
       "      <td>...</td>\n",
       "      <td>...</td>\n",
       "      <td>...</td>\n",
       "      <td>...</td>\n",
       "      <td>...</td>\n",
       "      <td>...</td>\n",
       "      <td>...</td>\n",
       "      <td>...</td>\n",
       "      <td>...</td>\n",
       "      <td>...</td>\n",
       "      <td>...</td>\n",
       "      <td>...</td>\n",
       "    </tr>\n",
       "    <tr>\n",
       "      <th>146071</th>\n",
       "      <td>No moroso</td>\n",
       "      <td>0.040674</td>\n",
       "      <td>74</td>\n",
       "      <td>0</td>\n",
       "      <td>0.225131</td>\n",
       "      <td>2100.0</td>\n",
       "      <td>4</td>\n",
       "      <td>0</td>\n",
       "      <td>1</td>\n",
       "      <td>0</td>\n",
       "      <td>0</td>\n",
       "      <td>Adulto mayor</td>\n",
       "      <td>Medio</td>\n",
       "    </tr>\n",
       "    <tr>\n",
       "      <th>146072</th>\n",
       "      <td>No moroso</td>\n",
       "      <td>0.299745</td>\n",
       "      <td>44</td>\n",
       "      <td>0</td>\n",
       "      <td>0.716562</td>\n",
       "      <td>5584.0</td>\n",
       "      <td>4</td>\n",
       "      <td>0</td>\n",
       "      <td>1</td>\n",
       "      <td>0</td>\n",
       "      <td>2</td>\n",
       "      <td>Adulto Joven</td>\n",
       "      <td>Medio</td>\n",
       "    </tr>\n",
       "    <tr>\n",
       "      <th>146073</th>\n",
       "      <td>No moroso</td>\n",
       "      <td>0.246044</td>\n",
       "      <td>58</td>\n",
       "      <td>0</td>\n",
       "      <td>3870.000000</td>\n",
       "      <td>0.0</td>\n",
       "      <td>18</td>\n",
       "      <td>0</td>\n",
       "      <td>1</td>\n",
       "      <td>0</td>\n",
       "      <td>0</td>\n",
       "      <td>Adulto</td>\n",
       "      <td>Bajo</td>\n",
       "    </tr>\n",
       "    <tr>\n",
       "      <th>146074</th>\n",
       "      <td>No moroso</td>\n",
       "      <td>0.000000</td>\n",
       "      <td>30</td>\n",
       "      <td>0</td>\n",
       "      <td>0.000000</td>\n",
       "      <td>5716.0</td>\n",
       "      <td>4</td>\n",
       "      <td>0</td>\n",
       "      <td>0</td>\n",
       "      <td>0</td>\n",
       "      <td>0</td>\n",
       "      <td>Joven</td>\n",
       "      <td>Medio</td>\n",
       "    </tr>\n",
       "    <tr>\n",
       "      <th>146075</th>\n",
       "      <td>No moroso</td>\n",
       "      <td>0.850283</td>\n",
       "      <td>64</td>\n",
       "      <td>0</td>\n",
       "      <td>0.249908</td>\n",
       "      <td>8158.0</td>\n",
       "      <td>8</td>\n",
       "      <td>0</td>\n",
       "      <td>2</td>\n",
       "      <td>0</td>\n",
       "      <td>0</td>\n",
       "      <td>Adulto</td>\n",
       "      <td>Alto</td>\n",
       "    </tr>\n",
       "  </tbody>\n",
       "</table>\n",
       "<p>146076 rows × 13 columns</p>\n",
       "</div>"
      ],
      "text/plain": [
       "           moroso  porcentaje_crediticio  edad  retrasos_bimestrales  \\\n",
       "0          Moroso               0.766127    45                     2   \n",
       "1       No moroso               0.957151    40                     0   \n",
       "2       No moroso               0.658180    38                     1   \n",
       "3       No moroso               0.233810    30                     0   \n",
       "4       No moroso               0.907239    49                     1   \n",
       "...           ...                    ...   ...                   ...   \n",
       "146071  No moroso               0.040674    74                     0   \n",
       "146072  No moroso               0.299745    44                     0   \n",
       "146073  No moroso               0.246044    58                     0   \n",
       "146074  No moroso               0.000000    30                     0   \n",
       "146075  No moroso               0.850283    64                     0   \n",
       "\n",
       "        razon_de_deuda  ingresos  cantidad_de_prestamos  cartera_vencida  \\\n",
       "0             0.802982    9120.0                     13                0   \n",
       "1             0.121876    2600.0                      4                0   \n",
       "2             0.085113    3042.0                      2                1   \n",
       "3             0.036050    3300.0                      5                0   \n",
       "4             0.024926   63588.0                      7                0   \n",
       "...                ...       ...                    ...              ...   \n",
       "146071        0.225131    2100.0                      4                0   \n",
       "146072        0.716562    5584.0                      4                0   \n",
       "146073     3870.000000       0.0                     18                0   \n",
       "146074        0.000000    5716.0                      4                0   \n",
       "146075        0.249908    8158.0                      8                0   \n",
       "\n",
       "        deuda_inmobiliara  retrasos_trimestrales  numero_dependientes  \\\n",
       "0                       6                      0                    2   \n",
       "1                       0                      0                    1   \n",
       "2                       0                      0                    0   \n",
       "3                       0                      0                    0   \n",
       "4                       1                      0                    0   \n",
       "...                   ...                    ...                  ...   \n",
       "146071                  1                      0                    0   \n",
       "146072                  1                      0                    2   \n",
       "146073                  1                      0                    0   \n",
       "146074                  0                      0                    0   \n",
       "146075                  2                      0                    0   \n",
       "\n",
       "          generacion clase_social  \n",
       "0             Adulto         Alto  \n",
       "1       Adulto Joven        Medio  \n",
       "2       Adulto Joven        Medio  \n",
       "3              Joven        Medio  \n",
       "4             Adulto         Alto  \n",
       "...              ...          ...  \n",
       "146071  Adulto mayor        Medio  \n",
       "146072  Adulto Joven        Medio  \n",
       "146073        Adulto         Bajo  \n",
       "146074         Joven        Medio  \n",
       "146075        Adulto         Alto  \n",
       "\n",
       "[146076 rows x 13 columns]"
      ]
     },
     "execution_count": 76,
     "metadata": {},
     "output_type": "execute_result"
    }
   ],
   "source": [
    "df"
   ]
  },
  {
   "cell_type": "code",
   "execution_count": 77,
   "id": "1d961f67-62ac-492e-b4a8-70628e112261",
   "metadata": {
    "executionInfo": {
     "elapsed": 2973,
     "status": "ok",
     "timestamp": 1727084030323,
     "user": {
      "displayName": "Luis Josue Díaz Alvarez",
      "userId": "04889251803537967222"
     },
     "user_tz": 360
    },
    "id": "1d961f67-62ac-492e-b4a8-70628e112261"
   },
   "outputs": [],
   "source": [
    "df.to_csv('03_eda/data_para_eda.csv',index = False)"
   ]
  }
 ],
 "metadata": {
  "colab": {
   "provenance": []
  },
  "kernelspec": {
   "display_name": "Python 3",
   "language": "python",
   "name": "python3"
  },
  "language_info": {
   "codemirror_mode": {
    "name": "ipython",
    "version": 3
   },
   "file_extension": ".py",
   "mimetype": "text/x-python",
   "name": "python",
   "nbconvert_exporter": "python",
   "pygments_lexer": "ipython3",
   "version": "3.12.4"
  }
 },
 "nbformat": 4,
 "nbformat_minor": 5
}
