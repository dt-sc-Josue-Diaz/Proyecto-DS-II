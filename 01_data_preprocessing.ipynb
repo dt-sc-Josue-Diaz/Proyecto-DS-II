{
 "cells": [
  {
   "cell_type": "markdown",
   "id": "9FWz6U-u8kgL",
   "metadata": {
    "id": "9FWz6U-u8kgL"
   },
   "source": []
  },
  {
   "cell_type": "markdown",
   "id": "MTBXckth-f_1",
   "metadata": {
    "id": "MTBXckth-f_1"
   },
   "source": [
    "# Créditos\n",
    "Los bancos son fundamentales para el desarrollo del mercado. El crédito es una de las herramientas con mayor uso y su uso data desde el renacimiento. El concepto es sencillo, se obtiene un nominal de manera inmediata a cambio de pagar un interes por el tiempo y la cantidad que se haya obtenido. Sin embargo, por muy moderno que sean los sistemas actualmente, el credito sigue sustentado en un acto de fe. De hecho el nombre  proviene del latín del verbo credere, que significa confianza.\n",
    "\n",
    "En tiempo mas recientes la manera de obtener un crédito era muy complicado y muy subjetivo. El cliente tenia que acudir a una institución bancaria en la cual un ejecutivo estudiaba si era candidato o no a un crédito, en este contexto tenemos una parte importante del crétido. Él término de reputación, este estudio era mas subjetivo que cuantitativo, se tomaba incluso la vestimenta y opiniones de personas cercanas. Con el avance de los sistemas estos métodos fueron sofisticados de manera paulatina.\n",
    "\n",
    "Por ejemplo en México se cuenta con Buró de crédito, el cual contien el historial financiero del cliente, incluisive de activides cotidianas. Desde servicios telefonicos hasta compras departamentales.\n",
    "\n",
    "# Problematica\n",
    "Una institución bancaria, debe tener sólidos sistemas para el prestamo de capital. Técncias coomo XVA y CVA, son centrales para determinar que tanto puede perder la institución si un cliente no paga adecuadamente sus prestamos. Más aún, la cualidad de los créditos son muy importantes, por ejemplo meedir cuanto nos costaria que un cliente pague anticipadamene un crédito, pues recordemos que un interes está asociado al tiempo y a la cantidad prestada. Por otro lado, el central en este ejercicio, cuanto podemos perder como institución al ceder de manera erronea un crédito a un perfil riesgoso.\n",
    "\n",
    "En términos comunes, nos interesa poder determinar la probabilidad de inpago de una contraparte, pues no solo es importe conocer el valor presente de un subyacente financiero, si no tambien su evolución.\n",
    "\n",
    "Esto no es reciente pero si económicante hablando, las tecnicas son originadas desde la crisis suprime de 2008, en la cual se asumió erroneamente que las contrapartes siempre iban a pagar sus hipótecas, pero los sistemas no pudieron medir el valor de los CDO's asociados a esas hipotecas, lo cual culminó en la crisis inmobiliraria ya mencionada.\n",
    "\n",
    "# Contexto\n",
    "El data set, se obtubo de Kaggle,\n",
    "\n",
    "https://www.kaggle.com/c/GiveMeSomeCredit\n",
    "\n",
    "este data set, contiene informacion sobre clientes, la cual destaca su naturaliza que es interes al autor de este pre-estudio. Si bien es de interes conocer la morosidad  suelen ser mucho menores que los de \"no default\".\n",
    "\n",
    "Se busca entrenar un modelo de XGBoostm, en este caso, nuestra intensión es lograr dominar ténicas de control del desbalanceo, el principal riesgo de ésta osadia es que el modelo podría sesgarse hacia la clase mayoritaria (prediciendo casi siempre \"no default\"), lo que no sería útil en la práctica.\n",
    "\n",
    "Buscamos experiencia para el desbalanceo en el dataset con cosas como;\n",
    "- Ajustar el parámetro scale_pos_weight;\n",
    "- Sobremuestreo o submuestreo,\n",
    "- Métricas alternativas;\n",
    "  - ROC-AUC;\n",
    "  - F1-Score;\n",
    "  - Recall.\n",
    "- Ajuste del umbral de decisión.\n",
    "\n",
    "Actualmente se puede usar técnicas estadísticas como\n",
    "[Bootstrapping ](https://en.wikipedia.org/wiki/Bootstrapping_(statistics)) para determinar las proyecciones del valor de los productos financieros. Sin embargo estos procesos son caros y en la práctica presenta errores a cambios de tasas, como recien se vio en los cambios de tasas de la FED de septiembre.\n",
    "\n",
    "Buscamos un modelos que nos permita ahorrar en los sistemas de externos, que nos permita determinar el riesgo asociado a una contraparte. En este ejercicio se tiene la información financiera de indvioduos cuya parte dificil es determinar que un cliente con las condiciones presentadas sea o no un usuario moroso.\n",
    "\n",
    "Lo importantes de este data set, es la cantidad de registros; 150,000, lo cual no es muy grande para nuestros fines, pero si representativo, pues tambien la página nos presenta un ejercicio con un data set de prueba, en la cual creemos que podemos ajustarnos bien alguna técnioca para lidiar con el desvalanceo. Si bien pudimos escoger un data set con mejores condiciones, el hambito financiero es de nuestro interes y la naturaleza de este data set, mas mas común y la principal dificultad.\n",
    "\n",
    "# Datos\n",
    "Los datos fueron obtenidos en Kaggle, pero para comodidad nuestra y del lector fueron cargadas en gitgub para poder importarlas directamente por medio del url del repositorio.\n",
    "\n",
    "Se presentan 3 links, los cuales hacen referencia a;\n",
    "  - `df_raw_training`,\n",
    "  - `df_raw_test`,\n",
    "  - `df_prob`.\n",
    "\n",
    "  Son los tres archivos con datos dados por la página. Necesitamos entender estos archivos. Ahora procedemos a hacer la carga. Tambien adjutamos el arhivo en la carpeta de entrega.\n",
    "\n",
    "  "
   ]
  },
  {
   "cell_type": "code",
   "execution_count": 1,
   "id": "df036bf5-7b47-41cb-85ef-580645023502",
   "metadata": {
    "executionInfo": {
     "elapsed": 3317,
     "status": "ok",
     "timestamp": 1727084042324,
     "user": {
      "displayName": "Luis Josue Díaz Alvarez",
      "userId": "04889251803537967222"
     },
     "user_tz": 360
    },
    "id": "df036bf5-7b47-41cb-85ef-580645023502"
   },
   "outputs": [],
   "source": [
    "import pandas as pd\n",
    "import numpy as np\n",
    "\n",
    "url_training = 'https://raw.githubusercontent.com/dt-sc-Josue-Diaz/preentrega/refs/heads/main/cs-training.csv'\n",
    "df_raw_training = pd.read_csv(url_training)\n",
    "\n",
    "url_test = 'https://raw.githubusercontent.com/dt-sc-Josue-Diaz/preentrega/refs/heads/main/cs-test.csv'\n",
    "df_raw_test = pd.read_csv(url_test)\n",
    "\n",
    "url_prob = 'https://raw.githubusercontent.com/dt-sc-Josue-Diaz/preentrega/refs/heads/main/sampleEntry.csv'\n",
    "df_prob = pd.read_csv(url_prob )"
   ]
  },
  {
   "cell_type": "code",
   "execution_count": 2,
   "id": "ca5b70e5",
   "metadata": {
    "colab": {
     "base_uri": "https://localhost:8080/",
     "height": 338
    },
    "executionInfo": {
     "elapsed": 288,
     "status": "ok",
     "timestamp": 1727084042610,
     "user": {
      "displayName": "Luis Josue Díaz Alvarez",
      "userId": "04889251803537967222"
     },
     "user_tz": 360
    },
    "id": "ca5b70e5",
    "outputId": "ebdb5722-d2ac-4a9f-d963-d5acdf036d67"
   },
   "outputs": [
    {
     "data": {
      "text/html": [
       "<div>\n",
       "<style scoped>\n",
       "    .dataframe tbody tr th:only-of-type {\n",
       "        vertical-align: middle;\n",
       "    }\n",
       "\n",
       "    .dataframe tbody tr th {\n",
       "        vertical-align: top;\n",
       "    }\n",
       "\n",
       "    .dataframe thead th {\n",
       "        text-align: right;\n",
       "    }\n",
       "</style>\n",
       "<table border=\"1\" class=\"dataframe\">\n",
       "  <thead>\n",
       "    <tr style=\"text-align: right;\">\n",
       "      <th></th>\n",
       "      <th>Unnamed: 0</th>\n",
       "      <th>SeriousDlqin2yrs</th>\n",
       "      <th>RevolvingUtilizationOfUnsecuredLines</th>\n",
       "      <th>age</th>\n",
       "      <th>NumberOfTime30-59DaysPastDueNotWorse</th>\n",
       "      <th>DebtRatio</th>\n",
       "      <th>MonthlyIncome</th>\n",
       "      <th>NumberOfOpenCreditLinesAndLoans</th>\n",
       "      <th>NumberOfTimes90DaysLate</th>\n",
       "      <th>NumberRealEstateLoansOrLines</th>\n",
       "      <th>NumberOfTime60-89DaysPastDueNotWorse</th>\n",
       "      <th>NumberOfDependents</th>\n",
       "    </tr>\n",
       "  </thead>\n",
       "  <tbody>\n",
       "    <tr>\n",
       "      <th>count</th>\n",
       "      <td>150000.000000</td>\n",
       "      <td>150000.000000</td>\n",
       "      <td>150000.000000</td>\n",
       "      <td>150000.000000</td>\n",
       "      <td>150000.000000</td>\n",
       "      <td>150000.000000</td>\n",
       "      <td>1.202690e+05</td>\n",
       "      <td>150000.000000</td>\n",
       "      <td>150000.000000</td>\n",
       "      <td>150000.000000</td>\n",
       "      <td>150000.000000</td>\n",
       "      <td>146076.000000</td>\n",
       "    </tr>\n",
       "    <tr>\n",
       "      <th>mean</th>\n",
       "      <td>75000.500000</td>\n",
       "      <td>0.066840</td>\n",
       "      <td>6.048438</td>\n",
       "      <td>52.295207</td>\n",
       "      <td>0.421033</td>\n",
       "      <td>353.005076</td>\n",
       "      <td>6.670221e+03</td>\n",
       "      <td>8.452760</td>\n",
       "      <td>0.265973</td>\n",
       "      <td>1.018240</td>\n",
       "      <td>0.240387</td>\n",
       "      <td>0.757222</td>\n",
       "    </tr>\n",
       "    <tr>\n",
       "      <th>std</th>\n",
       "      <td>43301.414527</td>\n",
       "      <td>0.249746</td>\n",
       "      <td>249.755371</td>\n",
       "      <td>14.771866</td>\n",
       "      <td>4.192781</td>\n",
       "      <td>2037.818523</td>\n",
       "      <td>1.438467e+04</td>\n",
       "      <td>5.145951</td>\n",
       "      <td>4.169304</td>\n",
       "      <td>1.129771</td>\n",
       "      <td>4.155179</td>\n",
       "      <td>1.115086</td>\n",
       "    </tr>\n",
       "    <tr>\n",
       "      <th>min</th>\n",
       "      <td>1.000000</td>\n",
       "      <td>0.000000</td>\n",
       "      <td>0.000000</td>\n",
       "      <td>0.000000</td>\n",
       "      <td>0.000000</td>\n",
       "      <td>0.000000</td>\n",
       "      <td>0.000000e+00</td>\n",
       "      <td>0.000000</td>\n",
       "      <td>0.000000</td>\n",
       "      <td>0.000000</td>\n",
       "      <td>0.000000</td>\n",
       "      <td>0.000000</td>\n",
       "    </tr>\n",
       "    <tr>\n",
       "      <th>25%</th>\n",
       "      <td>37500.750000</td>\n",
       "      <td>0.000000</td>\n",
       "      <td>0.029867</td>\n",
       "      <td>41.000000</td>\n",
       "      <td>0.000000</td>\n",
       "      <td>0.175074</td>\n",
       "      <td>3.400000e+03</td>\n",
       "      <td>5.000000</td>\n",
       "      <td>0.000000</td>\n",
       "      <td>0.000000</td>\n",
       "      <td>0.000000</td>\n",
       "      <td>0.000000</td>\n",
       "    </tr>\n",
       "    <tr>\n",
       "      <th>50%</th>\n",
       "      <td>75000.500000</td>\n",
       "      <td>0.000000</td>\n",
       "      <td>0.154181</td>\n",
       "      <td>52.000000</td>\n",
       "      <td>0.000000</td>\n",
       "      <td>0.366508</td>\n",
       "      <td>5.400000e+03</td>\n",
       "      <td>8.000000</td>\n",
       "      <td>0.000000</td>\n",
       "      <td>1.000000</td>\n",
       "      <td>0.000000</td>\n",
       "      <td>0.000000</td>\n",
       "    </tr>\n",
       "    <tr>\n",
       "      <th>75%</th>\n",
       "      <td>112500.250000</td>\n",
       "      <td>0.000000</td>\n",
       "      <td>0.559046</td>\n",
       "      <td>63.000000</td>\n",
       "      <td>0.000000</td>\n",
       "      <td>0.868254</td>\n",
       "      <td>8.249000e+03</td>\n",
       "      <td>11.000000</td>\n",
       "      <td>0.000000</td>\n",
       "      <td>2.000000</td>\n",
       "      <td>0.000000</td>\n",
       "      <td>1.000000</td>\n",
       "    </tr>\n",
       "    <tr>\n",
       "      <th>max</th>\n",
       "      <td>150000.000000</td>\n",
       "      <td>1.000000</td>\n",
       "      <td>50708.000000</td>\n",
       "      <td>109.000000</td>\n",
       "      <td>98.000000</td>\n",
       "      <td>329664.000000</td>\n",
       "      <td>3.008750e+06</td>\n",
       "      <td>58.000000</td>\n",
       "      <td>98.000000</td>\n",
       "      <td>54.000000</td>\n",
       "      <td>98.000000</td>\n",
       "      <td>20.000000</td>\n",
       "    </tr>\n",
       "  </tbody>\n",
       "</table>\n",
       "</div>"
      ],
      "text/plain": [
       "          Unnamed: 0  SeriousDlqin2yrs  RevolvingUtilizationOfUnsecuredLines  \\\n",
       "count  150000.000000     150000.000000                         150000.000000   \n",
       "mean    75000.500000          0.066840                              6.048438   \n",
       "std     43301.414527          0.249746                            249.755371   \n",
       "min         1.000000          0.000000                              0.000000   \n",
       "25%     37500.750000          0.000000                              0.029867   \n",
       "50%     75000.500000          0.000000                              0.154181   \n",
       "75%    112500.250000          0.000000                              0.559046   \n",
       "max    150000.000000          1.000000                          50708.000000   \n",
       "\n",
       "                 age  NumberOfTime30-59DaysPastDueNotWorse      DebtRatio  \\\n",
       "count  150000.000000                         150000.000000  150000.000000   \n",
       "mean       52.295207                              0.421033     353.005076   \n",
       "std        14.771866                              4.192781    2037.818523   \n",
       "min         0.000000                              0.000000       0.000000   \n",
       "25%        41.000000                              0.000000       0.175074   \n",
       "50%        52.000000                              0.000000       0.366508   \n",
       "75%        63.000000                              0.000000       0.868254   \n",
       "max       109.000000                             98.000000  329664.000000   \n",
       "\n",
       "       MonthlyIncome  NumberOfOpenCreditLinesAndLoans  \\\n",
       "count   1.202690e+05                    150000.000000   \n",
       "mean    6.670221e+03                         8.452760   \n",
       "std     1.438467e+04                         5.145951   \n",
       "min     0.000000e+00                         0.000000   \n",
       "25%     3.400000e+03                         5.000000   \n",
       "50%     5.400000e+03                         8.000000   \n",
       "75%     8.249000e+03                        11.000000   \n",
       "max     3.008750e+06                        58.000000   \n",
       "\n",
       "       NumberOfTimes90DaysLate  NumberRealEstateLoansOrLines  \\\n",
       "count            150000.000000                 150000.000000   \n",
       "mean                  0.265973                      1.018240   \n",
       "std                   4.169304                      1.129771   \n",
       "min                   0.000000                      0.000000   \n",
       "25%                   0.000000                      0.000000   \n",
       "50%                   0.000000                      1.000000   \n",
       "75%                   0.000000                      2.000000   \n",
       "max                  98.000000                     54.000000   \n",
       "\n",
       "       NumberOfTime60-89DaysPastDueNotWorse  NumberOfDependents  \n",
       "count                         150000.000000       146076.000000  \n",
       "mean                               0.240387            0.757222  \n",
       "std                                4.155179            1.115086  \n",
       "min                                0.000000            0.000000  \n",
       "25%                                0.000000            0.000000  \n",
       "50%                                0.000000            0.000000  \n",
       "75%                                0.000000            1.000000  \n",
       "max                               98.000000           20.000000  "
      ]
     },
     "execution_count": 2,
     "metadata": {},
     "output_type": "execute_result"
    }
   ],
   "source": [
    "df_raw_training.describe()"
   ]
  },
  {
   "cell_type": "code",
   "execution_count": 3,
   "id": "ZO0nblmi5QU1",
   "metadata": {
    "colab": {
     "base_uri": "https://localhost:8080/",
     "height": 338
    },
    "executionInfo": {
     "elapsed": 267,
     "status": "ok",
     "timestamp": 1727084042875,
     "user": {
      "displayName": "Luis Josue Díaz Alvarez",
      "userId": "04889251803537967222"
     },
     "user_tz": 360
    },
    "id": "ZO0nblmi5QU1",
    "outputId": "5845607e-d69a-41aa-d8a8-7e08c5e96bbf"
   },
   "outputs": [
    {
     "data": {
      "text/html": [
       "<div>\n",
       "<style scoped>\n",
       "    .dataframe tbody tr th:only-of-type {\n",
       "        vertical-align: middle;\n",
       "    }\n",
       "\n",
       "    .dataframe tbody tr th {\n",
       "        vertical-align: top;\n",
       "    }\n",
       "\n",
       "    .dataframe thead th {\n",
       "        text-align: right;\n",
       "    }\n",
       "</style>\n",
       "<table border=\"1\" class=\"dataframe\">\n",
       "  <thead>\n",
       "    <tr style=\"text-align: right;\">\n",
       "      <th></th>\n",
       "      <th>Unnamed: 0</th>\n",
       "      <th>SeriousDlqin2yrs</th>\n",
       "      <th>RevolvingUtilizationOfUnsecuredLines</th>\n",
       "      <th>age</th>\n",
       "      <th>NumberOfTime30-59DaysPastDueNotWorse</th>\n",
       "      <th>DebtRatio</th>\n",
       "      <th>MonthlyIncome</th>\n",
       "      <th>NumberOfOpenCreditLinesAndLoans</th>\n",
       "      <th>NumberOfTimes90DaysLate</th>\n",
       "      <th>NumberRealEstateLoansOrLines</th>\n",
       "      <th>NumberOfTime60-89DaysPastDueNotWorse</th>\n",
       "      <th>NumberOfDependents</th>\n",
       "    </tr>\n",
       "  </thead>\n",
       "  <tbody>\n",
       "    <tr>\n",
       "      <th>count</th>\n",
       "      <td>101503.000000</td>\n",
       "      <td>0.0</td>\n",
       "      <td>101503.000000</td>\n",
       "      <td>101503.000000</td>\n",
       "      <td>101503.000000</td>\n",
       "      <td>101503.000000</td>\n",
       "      <td>8.140000e+04</td>\n",
       "      <td>101503.000000</td>\n",
       "      <td>101503.000000</td>\n",
       "      <td>101503.000000</td>\n",
       "      <td>101503.000000</td>\n",
       "      <td>98877.000000</td>\n",
       "    </tr>\n",
       "    <tr>\n",
       "      <th>mean</th>\n",
       "      <td>50752.000000</td>\n",
       "      <td>NaN</td>\n",
       "      <td>5.310000</td>\n",
       "      <td>52.405436</td>\n",
       "      <td>0.453770</td>\n",
       "      <td>344.475020</td>\n",
       "      <td>6.855036e+03</td>\n",
       "      <td>8.453514</td>\n",
       "      <td>0.296691</td>\n",
       "      <td>1.013074</td>\n",
       "      <td>0.270317</td>\n",
       "      <td>0.769046</td>\n",
       "    </tr>\n",
       "    <tr>\n",
       "      <th>std</th>\n",
       "      <td>29301.536524</td>\n",
       "      <td>NaN</td>\n",
       "      <td>196.156039</td>\n",
       "      <td>14.779756</td>\n",
       "      <td>4.538487</td>\n",
       "      <td>1632.595231</td>\n",
       "      <td>3.650860e+04</td>\n",
       "      <td>5.144100</td>\n",
       "      <td>4.515859</td>\n",
       "      <td>1.110253</td>\n",
       "      <td>4.503578</td>\n",
       "      <td>1.136778</td>\n",
       "    </tr>\n",
       "    <tr>\n",
       "      <th>min</th>\n",
       "      <td>1.000000</td>\n",
       "      <td>NaN</td>\n",
       "      <td>0.000000</td>\n",
       "      <td>21.000000</td>\n",
       "      <td>0.000000</td>\n",
       "      <td>0.000000</td>\n",
       "      <td>0.000000e+00</td>\n",
       "      <td>0.000000</td>\n",
       "      <td>0.000000</td>\n",
       "      <td>0.000000</td>\n",
       "      <td>0.000000</td>\n",
       "      <td>0.000000</td>\n",
       "    </tr>\n",
       "    <tr>\n",
       "      <th>25%</th>\n",
       "      <td>25376.500000</td>\n",
       "      <td>NaN</td>\n",
       "      <td>0.030131</td>\n",
       "      <td>41.000000</td>\n",
       "      <td>0.000000</td>\n",
       "      <td>0.173423</td>\n",
       "      <td>3.408000e+03</td>\n",
       "      <td>5.000000</td>\n",
       "      <td>0.000000</td>\n",
       "      <td>0.000000</td>\n",
       "      <td>0.000000</td>\n",
       "      <td>0.000000</td>\n",
       "    </tr>\n",
       "    <tr>\n",
       "      <th>50%</th>\n",
       "      <td>50752.000000</td>\n",
       "      <td>NaN</td>\n",
       "      <td>0.152586</td>\n",
       "      <td>52.000000</td>\n",
       "      <td>0.000000</td>\n",
       "      <td>0.364260</td>\n",
       "      <td>5.400000e+03</td>\n",
       "      <td>8.000000</td>\n",
       "      <td>0.000000</td>\n",
       "      <td>1.000000</td>\n",
       "      <td>0.000000</td>\n",
       "      <td>0.000000</td>\n",
       "    </tr>\n",
       "    <tr>\n",
       "      <th>75%</th>\n",
       "      <td>76127.500000</td>\n",
       "      <td>NaN</td>\n",
       "      <td>0.564225</td>\n",
       "      <td>63.000000</td>\n",
       "      <td>0.000000</td>\n",
       "      <td>0.851619</td>\n",
       "      <td>8.200000e+03</td>\n",
       "      <td>11.000000</td>\n",
       "      <td>0.000000</td>\n",
       "      <td>2.000000</td>\n",
       "      <td>0.000000</td>\n",
       "      <td>1.000000</td>\n",
       "    </tr>\n",
       "    <tr>\n",
       "      <th>max</th>\n",
       "      <td>101503.000000</td>\n",
       "      <td>NaN</td>\n",
       "      <td>21821.000000</td>\n",
       "      <td>104.000000</td>\n",
       "      <td>98.000000</td>\n",
       "      <td>268326.000000</td>\n",
       "      <td>7.727000e+06</td>\n",
       "      <td>85.000000</td>\n",
       "      <td>98.000000</td>\n",
       "      <td>37.000000</td>\n",
       "      <td>98.000000</td>\n",
       "      <td>43.000000</td>\n",
       "    </tr>\n",
       "  </tbody>\n",
       "</table>\n",
       "</div>"
      ],
      "text/plain": [
       "          Unnamed: 0  SeriousDlqin2yrs  RevolvingUtilizationOfUnsecuredLines  \\\n",
       "count  101503.000000               0.0                         101503.000000   \n",
       "mean    50752.000000               NaN                              5.310000   \n",
       "std     29301.536524               NaN                            196.156039   \n",
       "min         1.000000               NaN                              0.000000   \n",
       "25%     25376.500000               NaN                              0.030131   \n",
       "50%     50752.000000               NaN                              0.152586   \n",
       "75%     76127.500000               NaN                              0.564225   \n",
       "max    101503.000000               NaN                          21821.000000   \n",
       "\n",
       "                 age  NumberOfTime30-59DaysPastDueNotWorse      DebtRatio  \\\n",
       "count  101503.000000                         101503.000000  101503.000000   \n",
       "mean       52.405436                              0.453770     344.475020   \n",
       "std        14.779756                              4.538487    1632.595231   \n",
       "min        21.000000                              0.000000       0.000000   \n",
       "25%        41.000000                              0.000000       0.173423   \n",
       "50%        52.000000                              0.000000       0.364260   \n",
       "75%        63.000000                              0.000000       0.851619   \n",
       "max       104.000000                             98.000000  268326.000000   \n",
       "\n",
       "       MonthlyIncome  NumberOfOpenCreditLinesAndLoans  \\\n",
       "count   8.140000e+04                    101503.000000   \n",
       "mean    6.855036e+03                         8.453514   \n",
       "std     3.650860e+04                         5.144100   \n",
       "min     0.000000e+00                         0.000000   \n",
       "25%     3.408000e+03                         5.000000   \n",
       "50%     5.400000e+03                         8.000000   \n",
       "75%     8.200000e+03                        11.000000   \n",
       "max     7.727000e+06                        85.000000   \n",
       "\n",
       "       NumberOfTimes90DaysLate  NumberRealEstateLoansOrLines  \\\n",
       "count            101503.000000                 101503.000000   \n",
       "mean                  0.296691                      1.013074   \n",
       "std                   4.515859                      1.110253   \n",
       "min                   0.000000                      0.000000   \n",
       "25%                   0.000000                      0.000000   \n",
       "50%                   0.000000                      1.000000   \n",
       "75%                   0.000000                      2.000000   \n",
       "max                  98.000000                     37.000000   \n",
       "\n",
       "       NumberOfTime60-89DaysPastDueNotWorse  NumberOfDependents  \n",
       "count                         101503.000000        98877.000000  \n",
       "mean                               0.270317            0.769046  \n",
       "std                                4.503578            1.136778  \n",
       "min                                0.000000            0.000000  \n",
       "25%                                0.000000            0.000000  \n",
       "50%                                0.000000            0.000000  \n",
       "75%                                0.000000            1.000000  \n",
       "max                               98.000000           43.000000  "
      ]
     },
     "execution_count": 3,
     "metadata": {},
     "output_type": "execute_result"
    }
   ],
   "source": [
    "df_raw_test.describe()"
   ]
  },
  {
   "cell_type": "code",
   "execution_count": 4,
   "id": "ZEI1Sf5i5Ug7",
   "metadata": {
    "colab": {
     "base_uri": "https://localhost:8080/",
     "height": 300
    },
    "executionInfo": {
     "elapsed": 277,
     "status": "ok",
     "timestamp": 1727084043151,
     "user": {
      "displayName": "Luis Josue Díaz Alvarez",
      "userId": "04889251803537967222"
     },
     "user_tz": 360
    },
    "id": "ZEI1Sf5i5Ug7",
    "outputId": "f9190ac2-2937-426b-d70e-6997d06ddf42"
   },
   "outputs": [
    {
     "data": {
      "text/html": [
       "<div>\n",
       "<style scoped>\n",
       "    .dataframe tbody tr th:only-of-type {\n",
       "        vertical-align: middle;\n",
       "    }\n",
       "\n",
       "    .dataframe tbody tr th {\n",
       "        vertical-align: top;\n",
       "    }\n",
       "\n",
       "    .dataframe thead th {\n",
       "        text-align: right;\n",
       "    }\n",
       "</style>\n",
       "<table border=\"1\" class=\"dataframe\">\n",
       "  <thead>\n",
       "    <tr style=\"text-align: right;\">\n",
       "      <th></th>\n",
       "      <th>Id</th>\n",
       "      <th>Probability</th>\n",
       "    </tr>\n",
       "  </thead>\n",
       "  <tbody>\n",
       "    <tr>\n",
       "      <th>count</th>\n",
       "      <td>101503.000000</td>\n",
       "      <td>101503.000000</td>\n",
       "    </tr>\n",
       "    <tr>\n",
       "      <th>mean</th>\n",
       "      <td>50752.000000</td>\n",
       "      <td>0.067664</td>\n",
       "    </tr>\n",
       "    <tr>\n",
       "      <th>std</th>\n",
       "      <td>29301.536524</td>\n",
       "      <td>0.110445</td>\n",
       "    </tr>\n",
       "    <tr>\n",
       "      <th>min</th>\n",
       "      <td>1.000000</td>\n",
       "      <td>0.003513</td>\n",
       "    </tr>\n",
       "    <tr>\n",
       "      <th>25%</th>\n",
       "      <td>25376.500000</td>\n",
       "      <td>0.011705</td>\n",
       "    </tr>\n",
       "    <tr>\n",
       "      <th>50%</th>\n",
       "      <td>50752.000000</td>\n",
       "      <td>0.023285</td>\n",
       "    </tr>\n",
       "    <tr>\n",
       "      <th>75%</th>\n",
       "      <td>76127.500000</td>\n",
       "      <td>0.067193</td>\n",
       "    </tr>\n",
       "    <tr>\n",
       "      <th>max</th>\n",
       "      <td>101503.000000</td>\n",
       "      <td>0.826056</td>\n",
       "    </tr>\n",
       "  </tbody>\n",
       "</table>\n",
       "</div>"
      ],
      "text/plain": [
       "                  Id    Probability\n",
       "count  101503.000000  101503.000000\n",
       "mean    50752.000000       0.067664\n",
       "std     29301.536524       0.110445\n",
       "min         1.000000       0.003513\n",
       "25%     25376.500000       0.011705\n",
       "50%     50752.000000       0.023285\n",
       "75%     76127.500000       0.067193\n",
       "max    101503.000000       0.826056"
      ]
     },
     "execution_count": 4,
     "metadata": {},
     "output_type": "execute_result"
    }
   ],
   "source": [
    "df_prob.describe()"
   ]
  },
  {
   "cell_type": "markdown",
   "id": "2D__4v1tHIAm",
   "metadata": {
    "id": "2D__4v1tHIAm"
   },
   "source": [
    "Observamos que existe una columna que no tiene nombre, procedemos a renombrarla y además a asignar el `id` como índice para evitar tener redundancia en los datos.\n",
    "\n"
   ]
  },
  {
   "cell_type": "code",
   "execution_count": 5,
   "id": "_e7LSp9fgnCN",
   "metadata": {
    "executionInfo": {
     "elapsed": 6,
     "status": "ok",
     "timestamp": 1727084043151,
     "user": {
      "displayName": "Luis Josue Díaz Alvarez",
      "userId": "04889251803537967222"
     },
     "user_tz": 360
    },
    "id": "_e7LSp9fgnCN"
   },
   "outputs": [],
   "source": [
    "def nombres_indices(df):\n",
    "  if 'Unnamed: 0' in df.columns:\n",
    "    df = df.rename(columns={'Unnamed: 0':'id'})\n",
    "  if 'Id' in df.columns:\n",
    "    df = df.rename(columns={'Id':'id'})\n",
    "  if 'id' in df.columns:\n",
    "    df.set_index('id', inplace=True)\n",
    "\n",
    "  return df\n",
    "\n",
    "df_raw_training = nombres_indices(df_raw_training )\n",
    "df_raw_test = nombres_indices(df_raw_test)\n",
    "df_prob = nombres_indices(df_prob)\n"
   ]
  },
  {
   "cell_type": "code",
   "execution_count": 6,
   "id": "zIcUCxVQ4ZzY",
   "metadata": {
    "colab": {
     "base_uri": "https://localhost:8080/"
    },
    "executionInfo": {
     "elapsed": 5,
     "status": "ok",
     "timestamp": 1727084043151,
     "user": {
      "displayName": "Luis Josue Díaz Alvarez",
      "userId": "04889251803537967222"
     },
     "user_tz": 360
    },
    "id": "zIcUCxVQ4ZzY",
    "outputId": "7d778456-ae26-48ea-ba4a-ce62bf68a55e"
   },
   "outputs": [
    {
     "data": {
      "text/plain": [
       "Index(['SeriousDlqin2yrs', 'RevolvingUtilizationOfUnsecuredLines', 'age',\n",
       "       'NumberOfTime30-59DaysPastDueNotWorse', 'DebtRatio', 'MonthlyIncome',\n",
       "       'NumberOfOpenCreditLinesAndLoans', 'NumberOfTimes90DaysLate',\n",
       "       'NumberRealEstateLoansOrLines', 'NumberOfTime60-89DaysPastDueNotWorse',\n",
       "       'NumberOfDependents'],\n",
       "      dtype='object')"
      ]
     },
     "execution_count": 6,
     "metadata": {},
     "output_type": "execute_result"
    }
   ],
   "source": [
    "df_raw_training.columns"
   ]
  },
  {
   "cell_type": "markdown",
   "id": "fDdOckOiHmZ-",
   "metadata": {
    "id": "fDdOckOiHmZ-"
   },
   "source": [
    "Notamos que el archivo, de test es el dado por la página para realizar los entrenamientos, mientra que los otros dos funcionan para las evaluaciones, el último arhivo contiene probabilidadees de incumplimiento. Procedemos a tener un solo archivo"
   ]
  },
  {
   "cell_type": "code",
   "execution_count": 7,
   "id": "7d000625-2f42-48b7-8890-aca7aaf8c5e2",
   "metadata": {
    "colab": {
     "base_uri": "https://localhost:8080/"
    },
    "executionInfo": {
     "elapsed": 4,
     "status": "ok",
     "timestamp": 1727084043151,
     "user": {
      "displayName": "Luis Josue Díaz Alvarez",
      "userId": "04889251803537967222"
     },
     "user_tz": 360
    },
    "id": "7d000625-2f42-48b7-8890-aca7aaf8c5e2",
    "outputId": "0284d7a3-72ce-4f93-ab12-25e4e079fb45"
   },
   "outputs": [
    {
     "data": {
      "text/plain": [
       "Index(['Probability', 'SeriousDlqin2yrs',\n",
       "       'RevolvingUtilizationOfUnsecuredLines', 'age',\n",
       "       'NumberOfTime30-59DaysPastDueNotWorse', 'DebtRatio', 'MonthlyIncome',\n",
       "       'NumberOfOpenCreditLinesAndLoans', 'NumberOfTimes90DaysLate',\n",
       "       'NumberRealEstateLoansOrLines', 'NumberOfTime60-89DaysPastDueNotWorse',\n",
       "       'NumberOfDependents'],\n",
       "      dtype='object')"
      ]
     },
     "execution_count": 7,
     "metadata": {},
     "output_type": "execute_result"
    }
   ],
   "source": [
    "df_merged = nombres_indices(pd.merge(df_prob, df_raw_training,  left_index=True, right_index=True, how = 'inner'))\n",
    "df_merged.columns"
   ]
  },
  {
   "cell_type": "markdown",
   "id": "EK_zhpX2LFSm",
   "metadata": {
    "id": "EK_zhpX2LFSm"
   },
   "source": [
    "Ahora procedemos a guardar este procesos en las carpetas correspondientes y tambien en github. Una vez que hagamos el push en gitdesktop podemos cargar desde internet para el segundo paso. Esto para fines prácticos, además que garantizamos que ambos datos son los mismos.\n"
   ]
  },
  {
   "cell_type": "code",
   "execution_count": 8,
   "id": "fec3a068-27b2-4ffb-a0ab-2b791e83b1b5",
   "metadata": {
    "executionInfo": {
     "elapsed": 4513,
     "status": "ok",
     "timestamp": 1727084047935,
     "user": {
      "displayName": "Luis Josue Díaz Alvarez",
      "userId": "04889251803537967222"
     },
     "user_tz": 360
    },
    "id": "fec3a068-27b2-4ffb-a0ab-2b791e83b1b5"
   },
   "outputs": [],
   "source": [
    "df_merged.to_csv('02_data_discovery/data_credit_test.csv', index = False)\n",
    "df_raw_training.to_csv('02_data_discovery/data_credit_training.csv', index = False)"
   ]
  },
  {
   "cell_type": "markdown",
   "id": "mz5C66XX60ZI",
   "metadata": {
    "id": "mz5C66XX60ZI"
   },
   "source": [
    "# Bibliografia\n",
    "https://carlosmarichal.colmex.mx/banca/Historia%20de%20la%20Banca%20y%20el%20credito%20en%20Mexico.pdf\n",
    "\n",
    "https://www.asobancaria.com/wp-content/uploads/2018/01/13b-alberto-elices_2016-ajustes-de-valoracion-xva.pdf\n",
    "\n",
    "https://www.burodecredito.com.mx/"
   ]
  }
 ],
 "metadata": {
  "colab": {
   "provenance": []
  },
  "kernelspec": {
   "display_name": "Python 3",
   "language": "python",
   "name": "python3"
  },
  "language_info": {
   "codemirror_mode": {
    "name": "ipython",
    "version": 3
   },
   "file_extension": ".py",
   "mimetype": "text/x-python",
   "name": "python",
   "nbconvert_exporter": "python",
   "pygments_lexer": "ipython3",
   "version": "3.12.4"
  }
 },
 "nbformat": 4,
 "nbformat_minor": 5
}
