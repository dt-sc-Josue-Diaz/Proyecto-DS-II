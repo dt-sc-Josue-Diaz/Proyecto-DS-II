{
 "cells": [
  {
   "cell_type": "markdown",
   "metadata": {},
   "source": [
    "# Anexo\n",
    "\n",
    "## Funciones para presentación"
   ]
  },
  {
   "cell_type": "code",
   "execution_count": 4,
   "metadata": {},
   "outputs": [],
   "source": [
    "import pandas as pd\n",
    "import numpy as np\n",
    "import matplotlib.pyplot as plt\n",
    "import seaborn as sns\n",
    "from fitter import Fitter\n",
    "from scipy.stats import ttest_ind\n",
    "import matplotlib.ticker as mtick"
   ]
  },
  {
   "cell_type": "code",
   "execution_count": 5,
   "metadata": {},
   "outputs": [],
   "source": [
    "def graf_bar(df, variable_1, variable_2):\n",
    "    plt.figure(figsize=(12, 10))\n",
    "    sns.set(style=\"whitegrid\", font_scale=1.2)\n",
    "    palette = sns.color_palette(\"muted\")\n",
    "    ax = sns.countplot(data=df, x=variable_1, hue=variable_2, stat='probability', palette=palette)\n",
    "\n",
    "    for p in ax.patches:\n",
    "        height = p.get_height()\n",
    "        if height > 0:\n",
    "            ax.annotate(f'{height:.2%}', (p.get_x() + p.get_width() / 2., height),\n",
    "                        ha='center', va='center', xytext=(0, 18), textcoords='offset points',\n",
    "                        rotation=15)\n",
    "\n",
    "    plt.xlabel(f'Variable {variable_1}', fontsize=14, labelpad=10)\n",
    "    plt.ylabel('Proporción', fontsize=14, labelpad=10)\n",
    "    plt.title(f'Distribución segmentada por {variable_2}', fontsize=16, weight='bold', pad=15)\n",
    "    plt.xticks(rotation=45, ha='right')\n",
    "    plt.tight_layout()\n",
    "    plt.savefig(f'graf_bar_{variable_1}_{variable_2}.png', format='png', dpi=300, bbox_inches='tight')\n",
    "\n",
    "def graf_pie(df,variable):\n",
    "    plt.figure(figsize=(8,8))\n",
    "    plt.gcf().set_facecolor('white')\n",
    "    colors = sns.color_palette(\"pastel\")\n",
    "    wedges, texts, autotexts = plt.pie(df[f'{variable}'].value_counts(), labels=df[f'{variable}'].value_counts().index,\n",
    "                                       autopct='%1.1f%%', startangle=90, colors=colors, wedgeprops=dict(edgecolor='k'))\n",
    "\n",
    "    plt.setp(autotexts, size=12, weight='bold', color='black')\n",
    "    plt.setp(texts, size=12)\n",
    "\n",
    "    plt.title(f'Distribución de la variable {variable}', fontsize=16, weight='bold', pad=20)\n",
    "    plt.tight_layout()\n",
    "    plt.savefig(f'graf_pie_{variable}.png', format='png', dpi=300, bbox_inches='tight')\n",
    "\n",
    "def graf_box(df, variable_1, variable_2):\n",
    "    plt.figure(figsize=(10,8))\n",
    "    sns.set(style=\"whitegrid\", font_scale=1.2)\n",
    "    palette = sns.color_palette(\"coolwarm\")\n",
    "\n",
    "    sns.boxplot(x=variable_1, y=variable_2, data=df, palette=palette, linewidth=2.5)\n",
    "    plt.title(f'Boxplot de {variable_1} y {variable_2}', fontsize=16, weight='bold', pad=20)\n",
    "    plt.tight_layout()\n",
    "    plt.savefig(f'graf_box_{variable_1}_{variable_2}.png', format='png', dpi=300, bbox_inches='tight')\n",
    "\n",
    "def graf_scatter(df, variable_1, variable_2,variable_3):\n",
    "    plt.figure(figsize=(10,8))\n",
    "    sns.set(style=\"whitegrid\", font_scale=1.2)\n",
    "    palette = sns.color_palette(\"deep\")\n",
    "\n",
    "    sns.scatterplot(x=variable_1, y=variable_2, hue=variable_3, data=df, palette=palette, alpha=0.7, edgecolor='w', s=100)\n",
    "    plt.title(f'{variable_1} vs {variable_2} por {variable_3}', fontsize=16, weight='bold', pad=20)\n",
    "    plt.xlabel(variable_1, fontsize=14)\n",
    "    plt.ylabel(variable_2, fontsize=14)\n",
    "    plt.tight_layout()\n",
    "    plt.savefig(f'graf_box_{variable_1}_{variable_2}_{variable_3}.png', format='png', dpi=300, bbox_inches='tight')\n",
    "\n",
    "def graf_dens(df, variable):\n",
    "    plt.figure(figsize=(10,8))\n",
    "    sns.set(style=\"whitegrid\", font_scale=1.2)\n",
    "    palette = sns.color_palette(\"Blues\")\n",
    "\n",
    "    sns.histplot(df[variable], kde=True, stat='density', linewidth=0, color=palette[4])\n",
    "    plt.ylabel('Densidad', fontsize=14)\n",
    "    plt.xlabel(f'Variable {variable}', fontsize=14)\n",
    "    plt.title(f'Densidad de la variable {variable}', fontsize=16, weight='bold', pad=20)\n",
    "    plt.tight_layout()\n",
    "    plt.savefig(f'graf_pie_{variable}.png', format='png', dpi=300, bbox_inches='tight')\n"
   ]
  },
  {
   "cell_type": "code",
   "execution_count": 6,
   "metadata": {},
   "outputs": [
    {
     "ename": "NameError",
     "evalue": "name 'df' is not defined",
     "output_type": "error",
     "traceback": [
      "\u001b[1;31m---------------------------------------------------------------------------\u001b[0m",
      "\u001b[1;31mNameError\u001b[0m                                 Traceback (most recent call last)",
      "Cell \u001b[1;32mIn[6], line 5\u001b[0m\n\u001b[0;32m      2\u001b[0m sns\u001b[38;5;241m.\u001b[39mset(style\u001b[38;5;241m=\u001b[39m\u001b[38;5;124m\"\u001b[39m\u001b[38;5;124mwhitegrid\u001b[39m\u001b[38;5;124m\"\u001b[39m, font_scale\u001b[38;5;241m=\u001b[39m\u001b[38;5;241m1.2\u001b[39m)\n\u001b[0;32m      3\u001b[0m palette \u001b[38;5;241m=\u001b[39m sns\u001b[38;5;241m.\u001b[39mcolor_palette(\u001b[38;5;124m\"\u001b[39m\u001b[38;5;124mcoolwarm\u001b[39m\u001b[38;5;124m\"\u001b[39m)\n\u001b[1;32m----> 5\u001b[0m sns\u001b[38;5;241m.\u001b[39mhistplot(\u001b[43mdf\u001b[49m[\u001b[38;5;124m'\u001b[39m\u001b[38;5;124mmoroso\u001b[39m\u001b[38;5;124m'\u001b[39m],stat \u001b[38;5;241m=\u001b[39m \u001b[38;5;124m'\u001b[39m\u001b[38;5;124mdensity\u001b[39m\u001b[38;5;124m'\u001b[39m)\n\u001b[0;32m      6\u001b[0m plt\u001b[38;5;241m.\u001b[39mylabel(\u001b[38;5;124m'\u001b[39m\u001b[38;5;124mPorcentaje\u001b[39m\u001b[38;5;124m'\u001b[39m, fontsize\u001b[38;5;241m=\u001b[39m\u001b[38;5;241m12\u001b[39m)\n\u001b[0;32m      7\u001b[0m plt\u001b[38;5;241m.\u001b[39mxlabel(\u001b[38;5;124m'\u001b[39m\u001b[38;5;124mMoroso\u001b[39m\u001b[38;5;124m'\u001b[39m, fontsize\u001b[38;5;241m=\u001b[39m\u001b[38;5;241m12\u001b[39m)\n",
      "\u001b[1;31mNameError\u001b[0m: name 'df' is not defined"
     ]
    },
    {
     "data": {
      "text/plain": [
       "<Figure size 600x600 with 0 Axes>"
      ]
     },
     "metadata": {},
     "output_type": "display_data"
    }
   ],
   "source": [
    "plt.figure(figsize=(6,6))\n",
    "sns.set(style=\"whitegrid\", font_scale=1.2)\n",
    "palette = sns.color_palette(\"coolwarm\")\n",
    "\n",
    "sns.histplot(df['moroso'],stat = 'density')\n",
    "plt.ylabel('Porcentaje', fontsize=12)\n",
    "plt.xlabel('Moroso', fontsize=12)\n",
    "plt.title('Histograma y densidad de la variable Moroso', fontsize=14, weight='bold')\n",
    "\n",
    "plt.ylabel('Porcentaje', fontsize=12)\n",
    "plt.xlabel('Clientes', fontsize=12)\n",
    "plt.title('Morosidad en los clientes', fontsize=14, weight='bold')\n",
    "\n",
    "\n",
    "plt.gca().yaxis.set_major_formatter(mtick.PercentFormatter(1.0))\n",
    "\n",
    "plt.tight_layout()\n",
    "plt.savefig(f'graf_pie_moroso.png', format='png', dpi=300, bbox_inches='tight')"
   ]
  },
  {
   "cell_type": "code",
   "execution_count": null,
   "metadata": {},
   "outputs": [],
   "source": [
    "graf_pie(df,'clase_social')"
   ]
  },
  {
   "cell_type": "code",
   "execution_count": null,
   "metadata": {},
   "outputs": [],
   "source": [
    "graf_pie(df,'generacion')"
   ]
  },
  {
   "cell_type": "code",
   "execution_count": null,
   "metadata": {},
   "outputs": [],
   "source": [
    "graf_bar(df,'clase_social','generacion')"
   ]
  }
 ],
 "metadata": {
  "kernelspec": {
   "display_name": "Python 3",
   "language": "python",
   "name": "python3"
  },
  "language_info": {
   "codemirror_mode": {
    "name": "ipython",
    "version": 3
   },
   "file_extension": ".py",
   "mimetype": "text/x-python",
   "name": "python",
   "nbconvert_exporter": "python",
   "pygments_lexer": "ipython3",
   "version": "3.12.4"
  }
 },
 "nbformat": 4,
 "nbformat_minor": 2
}
