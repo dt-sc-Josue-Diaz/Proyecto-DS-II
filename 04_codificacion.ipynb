{
 "cells": [
  {
   "cell_type": "code",
   "execution_count": 6,
   "id": "0deb9086-b820-4700-bf8d-a248e8eb8cde",
   "metadata": {},
   "outputs": [],
   "source": [
    "import pandas as pd\n",
    "\n",
    "df = pd.read_csv('https://raw.githubusercontent.com/dt-sc-Josue-Diaz/Proyecto-DS-II/refs/heads/main/04_encoding/data_para_codificacion.csv')\n",
    "df_copia = df.copy()"
   ]
  },
  {
   "cell_type": "code",
   "execution_count": 7,
   "id": "9403115a",
   "metadata": {},
   "outputs": [
    {
     "data": {
      "text/plain": [
       "Index(['moroso', 'edad', 'retrasos_bimestrales', 'ingresos',\n",
       "       'cantidad_de_prestamos', 'cartera_vencida', 'deuda_inmobiliara',\n",
       "       'retrasos_trimestrales', 'numero_dependientes', 'generacion',\n",
       "       'clase_social', 'log_porcentaje_crediticio', 'log_razon_de_deuda'],\n",
       "      dtype='object')"
      ]
     },
     "execution_count": 7,
     "metadata": {},
     "output_type": "execute_result"
    }
   ],
   "source": [
    "df_copia.columns"
   ]
  },
  {
   "cell_type": "code",
   "execution_count": 8,
   "id": "b82526ca-c233-4a39-8595-63948b5dac1f",
   "metadata": {},
   "outputs": [],
   "source": [
    "df_copia.drop(['generacion', 'clase_social'],axis='columns',\n",
    "               inplace=True)"
   ]
  },
  {
   "cell_type": "code",
   "execution_count": 9,
   "id": "7885e279",
   "metadata": {},
   "outputs": [
    {
     "data": {
      "text/html": [
       "<div>\n",
       "<style scoped>\n",
       "    .dataframe tbody tr th:only-of-type {\n",
       "        vertical-align: middle;\n",
       "    }\n",
       "\n",
       "    .dataframe tbody tr th {\n",
       "        vertical-align: top;\n",
       "    }\n",
       "\n",
       "    .dataframe thead th {\n",
       "        text-align: right;\n",
       "    }\n",
       "</style>\n",
       "<table border=\"1\" class=\"dataframe\">\n",
       "  <thead>\n",
       "    <tr style=\"text-align: right;\">\n",
       "      <th></th>\n",
       "      <th>moroso</th>\n",
       "      <th>edad</th>\n",
       "      <th>retrasos_bimestrales</th>\n",
       "      <th>ingresos</th>\n",
       "      <th>cantidad_de_prestamos</th>\n",
       "      <th>cartera_vencida</th>\n",
       "      <th>deuda_inmobiliara</th>\n",
       "      <th>retrasos_trimestrales</th>\n",
       "      <th>numero_dependientes</th>\n",
       "      <th>log_porcentaje_crediticio</th>\n",
       "      <th>log_razon_de_deuda</th>\n",
       "    </tr>\n",
       "  </thead>\n",
       "  <tbody>\n",
       "    <tr>\n",
       "      <th>0</th>\n",
       "      <td>1</td>\n",
       "      <td>45</td>\n",
       "      <td>2</td>\n",
       "      <td>9120.0</td>\n",
       "      <td>13</td>\n",
       "      <td>0</td>\n",
       "      <td>6</td>\n",
       "      <td>0</td>\n",
       "      <td>2</td>\n",
       "      <td>0.568789</td>\n",
       "      <td>0.589442</td>\n",
       "    </tr>\n",
       "    <tr>\n",
       "      <th>1</th>\n",
       "      <td>0</td>\n",
       "      <td>40</td>\n",
       "      <td>0</td>\n",
       "      <td>2600.0</td>\n",
       "      <td>4</td>\n",
       "      <td>0</td>\n",
       "      <td>0</td>\n",
       "      <td>0</td>\n",
       "      <td>1</td>\n",
       "      <td>0.671490</td>\n",
       "      <td>0.115002</td>\n",
       "    </tr>\n",
       "    <tr>\n",
       "      <th>2</th>\n",
       "      <td>0</td>\n",
       "      <td>38</td>\n",
       "      <td>1</td>\n",
       "      <td>3042.0</td>\n",
       "      <td>2</td>\n",
       "      <td>1</td>\n",
       "      <td>0</td>\n",
       "      <td>0</td>\n",
       "      <td>0</td>\n",
       "      <td>0.505721</td>\n",
       "      <td>0.081684</td>\n",
       "    </tr>\n",
       "    <tr>\n",
       "      <th>3</th>\n",
       "      <td>0</td>\n",
       "      <td>30</td>\n",
       "      <td>0</td>\n",
       "      <td>3300.0</td>\n",
       "      <td>5</td>\n",
       "      <td>0</td>\n",
       "      <td>0</td>\n",
       "      <td>0</td>\n",
       "      <td>0</td>\n",
       "      <td>0.210107</td>\n",
       "      <td>0.035415</td>\n",
       "    </tr>\n",
       "    <tr>\n",
       "      <th>4</th>\n",
       "      <td>0</td>\n",
       "      <td>49</td>\n",
       "      <td>1</td>\n",
       "      <td>63588.0</td>\n",
       "      <td>7</td>\n",
       "      <td>0</td>\n",
       "      <td>1</td>\n",
       "      <td>0</td>\n",
       "      <td>0</td>\n",
       "      <td>0.645657</td>\n",
       "      <td>0.024620</td>\n",
       "    </tr>\n",
       "  </tbody>\n",
       "</table>\n",
       "</div>"
      ],
      "text/plain": [
       "   moroso  edad  retrasos_bimestrales  ingresos  cantidad_de_prestamos  \\\n",
       "0       1    45                     2    9120.0                     13   \n",
       "1       0    40                     0    2600.0                      4   \n",
       "2       0    38                     1    3042.0                      2   \n",
       "3       0    30                     0    3300.0                      5   \n",
       "4       0    49                     1   63588.0                      7   \n",
       "\n",
       "   cartera_vencida  deuda_inmobiliara  retrasos_trimestrales  \\\n",
       "0                0                  6                      0   \n",
       "1                0                  0                      0   \n",
       "2                1                  0                      0   \n",
       "3                0                  0                      0   \n",
       "4                0                  1                      0   \n",
       "\n",
       "   numero_dependientes  log_porcentaje_crediticio  log_razon_de_deuda  \n",
       "0                    2                   0.568789            0.589442  \n",
       "1                    1                   0.671490            0.115002  \n",
       "2                    0                   0.505721            0.081684  \n",
       "3                    0                   0.210107            0.035415  \n",
       "4                    0                   0.645657            0.024620  "
      ]
     },
     "execution_count": 9,
     "metadata": {},
     "output_type": "execute_result"
    }
   ],
   "source": [
    "df_copia.head()"
   ]
  },
  {
   "cell_type": "code",
   "execution_count": 10,
   "id": "0b7d9d02",
   "metadata": {},
   "outputs": [],
   "source": [
    "df_copia.to_csv(\"05_models_evaluation/data_para_entrenamiento.csv\")"
   ]
  }
 ],
 "metadata": {
  "kernelspec": {
   "display_name": "Python 3",
   "language": "python",
   "name": "python3"
  },
  "language_info": {
   "codemirror_mode": {
    "name": "ipython",
    "version": 3
   },
   "file_extension": ".py",
   "mimetype": "text/x-python",
   "name": "python",
   "nbconvert_exporter": "python",
   "pygments_lexer": "ipython3",
   "version": "3.12.4"
  }
 },
 "nbformat": 4,
 "nbformat_minor": 5
}
